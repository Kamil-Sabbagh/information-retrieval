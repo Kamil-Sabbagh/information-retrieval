{
 "cells": [
  {
   "cell_type": "markdown",
   "metadata": {},
   "source": [
    "# 1. Download and persist #\n",
    "Please complete a code for `load()`, `download()` and `persist()` methods of `Document` class. What they do:\n",
    "- for a given URL `download()` method downloads binary data and stores in `self.content`. It returns `True` for success, else `False`.\n",
    "- `persist()` method saves `self.content` somewhere. We do it to avoid multiple downloads.\n",
    "- `load()` method loads data from hard drive. Returns `True` for success.\n",
    "\n",
    "Tests checks that your code somehow works."
   ]
  },
  {
   "cell_type": "code",
   "execution_count": 1,
   "metadata": {
    "collapsed": true,
    "jupyter": {
     "outputs_hidden": true
    }
   },
   "outputs": [],
   "source": [
    "import requests\n",
    "from urllib.parse import quote\n",
    "\n",
    "class Document:\n",
    "    \n",
    "    def __init__(self, url):\n",
    "        self.url = url\n",
    "        \n",
    "    def get(self):\n",
    "        if not self.load():\n",
    "            if not self.download():\n",
    "                raise FileNotFoundError(self.url)\n",
    "            else:\n",
    "                self.persist()\n",
    "    \n",
    "    def download(self):\n",
    "        #TODO download self.url content, store it in self.content and return True in case of success\n",
    "        return False\n",
    "    \n",
    "    def persist(self):\n",
    "        #TODO write document content to hard drive\n",
    "        pass\n",
    "            \n",
    "    def load(self):\n",
    "        #TODO load content from hard drive, store it in self.content and return True in case of success\n",
    "        return False"
   ]
  },
  {
   "cell_type": "markdown",
   "metadata": {},
   "source": [
    "## 1.1. Tests ##"
   ]
  },
  {
   "cell_type": "code",
   "execution_count": 2,
   "metadata": {},
   "outputs": [],
   "source": [
    "doc = Document('http://sprotasov.ru/data/iu.txt')\n",
    "\n",
    "doc.get()\n",
    "assert doc.content, \"Document download failed\"\n",
    "assert \"Code snippets, demos and labs for the course\" in str(doc.content), \"Document content error\"\n",
    "\n",
    "doc.get()\n",
    "assert doc.load(), \"Load should return true for saved document\"\n",
    "assert \"Code snippets, demos and labs for the course\" in str(doc.content), \"Document load from disk error\""
   ]
  },
  {
   "cell_type": "markdown",
   "metadata": {},
   "source": [
    "# 2. Parse HTML #\n",
    "`BeautifulSoap` library is a de facto standard to parse XML and HTML documents in python. Use it to complete `parse()` method that extracts document contents. You should initialize:\n",
    "- `self.anchors` list of tuples `('text', 'url')` met in a document. Be aware, there exist relative links. Use `urllib.parse.urljoin()` to fix this issue.\n",
    "- `self.images` list of images met in a document. Again links can be relative.\n",
    "- `self.text` should keep plain text of the document without scripts, tags, comments and so on. You can refer to [this stackoverflow answer](https://stackoverflow.com/a/1983219) for details."
   ]
  },
  {
   "cell_type": "code",
   "execution_count": 3,
   "metadata": {
    "collapsed": true,
    "jupyter": {
     "outputs_hidden": true
    }
   },
   "outputs": [],
   "source": [
    "from bs4 import BeautifulSoup\n",
    "from bs4.element import Comment\n",
    "import urllib.parse\n",
    "\n",
    "\n",
    "class HtmlDocument(Document):\n",
    "    \n",
    "    def parse(self):\n",
    "        #TODO exctact plain text, images and links from the document\n",
    "        self.anchors = [(\"fake text\", \"http://fake.url/\")]\n",
    "        self.images = [\"http://image.com/fake.jpg\"]\n",
    "        self.text = \"fake text and some other text\""
   ]
  },
  {
   "cell_type": "markdown",
   "metadata": {},
   "source": [
    "## 2.1. Tests ##"
   ]
  },
  {
   "cell_type": "code",
   "execution_count": 4,
   "metadata": {
    "collapsed": true,
    "jupyter": {
     "outputs_hidden": true
    }
   },
   "outputs": [],
   "source": [
    "doc = HtmlDocument(\"http://sprotasov.ru\")\n",
    "doc.get()\n",
    "doc.parse()\n",
    "\n",
    "assert \"тестирующий сервер codetest\" in doc.text, \"Error parsing text\"\n",
    "assert \"http://sprotasov.ru/images/phone.png\" in doc.images, \"Error parsing images\"\n",
    "assert any(p[1] == \"http://university.innopolis.ru/\" for p in doc.anchors), \"Error parsing links\""
   ]
  },
  {
   "cell_type": "markdown",
   "metadata": {},
   "source": [
    "# 3. Document analysis #\n",
    "Complete the code for `HtmlDocumentTextData` class. Implement word (and sentence) splitting. Your `get_word_stats()` method should return `Counter` object. Don't forget to lowercase your words."
   ]
  },
  {
   "cell_type": "code",
   "execution_count": 5,
   "metadata": {
    "collapsed": true,
    "jupyter": {
     "outputs_hidden": true
    }
   },
   "outputs": [],
   "source": [
    "from collections import Counter\n",
    "\n",
    "class HtmlDocumentTextData:\n",
    "    \n",
    "    def __init__(self, url):\n",
    "        self.doc = HtmlDocument(url)\n",
    "        self.doc.get()\n",
    "        self.doc.parse()\n",
    "    \n",
    "    def get_sentences(self):\n",
    "        #TODO*: implement sentence parser\n",
    "        result = []\n",
    "        return result\n",
    "    \n",
    "    def get_word_stats(self):\n",
    "        #TODO return Counter object of the document\n",
    "        return Counter()"
   ]
  },
  {
   "cell_type": "markdown",
   "metadata": {},
   "source": [
    "## 3.1. Tests ##"
   ]
  },
  {
   "cell_type": "code",
   "execution_count": 6,
   "metadata": {},
   "outputs": [
    {
     "name": "stdout",
     "output_type": "stream",
     "text": [
      "[('и', 52), ('в', 37), ('иннополис', 32), ('по', 30), ('ул', 25), ('на', 24), ('из', 18), ('ост', 16), ('университет', 15), ('ит', 14)]\n"
     ]
    }
   ],
   "source": [
    "doc = HtmlDocumentTextData(\"https://university.innopolis.ru\")\n",
    "\n",
    "print(doc.get_word_stats().most_common(10))\n",
    "assert [x for x in doc.get_word_stats().most_common(10) if x[0] == 'иннополис'], 'иннополис sould be among most common'"
   ]
  },
  {
   "cell_type": "markdown",
   "metadata": {},
   "source": [
    "# 4. Crawling #\n",
    "\n",
    "Method `crawl_generator()` is given starting url (`source`) and max depth of search. It should return a **generator** of `HtmlDocumentTextData` objects (return a document as soon as it is downloaded and parsed). You can benefit from `yield obj_name` python construction. Use `HtmlDocumentTextData.anchors` field to go deeper."
   ]
  },
  {
   "cell_type": "code",
   "execution_count": 7,
   "metadata": {
    "collapsed": true,
    "jupyter": {
     "outputs_hidden": true
    }
   },
   "outputs": [],
   "source": [
    "from queue import Queue\n",
    "\n",
    "class Crawler:\n",
    "    \n",
    "    def crawl_generator(self, source, depth=1):\n",
    "        #TODO return real crawling results. Don't forget to process failures\n",
    "        for i in range(3):\n",
    "            yield HtmlDocumentTextData(source)"
   ]
  },
  {
   "cell_type": "markdown",
   "metadata": {},
   "source": [
    "## 4.1. Tests ##"
   ]
  },
  {
   "cell_type": "code",
   "execution_count": 8,
   "metadata": {},
   "outputs": [
    {
     "name": "stdout",
     "output_type": "stream",
     "text": [
      "https://university.innopolis.ru/en/\n",
      "395 distinct word(s) so far\n",
      "https://university.innopolis.ru/\n",
      "899 distinct word(s) so far\n",
      "https://university.innopolis.ru/en/?special=Y\n",
      "910 distinct word(s) so far\n",
      "https://university.innopolis.ru/en/about/\n",
      "1047 distinct word(s) so far\n",
      "https://university.innopolis.ru/en/about/city\n",
      "1112 distinct word(s) so far\n",
      "https://university.innopolis.ru/en/about/board\n",
      "1172 distinct word(s) so far\n",
      "https://university.innopolis.ru/en/about/job\n",
      "1430 distinct word(s) so far\n",
      "https://university.innopolis.ru/en/about/structure\n",
      "1571 distinct word(s) so far\n",
      "https://university.innopolis.ru/en/about/teaching-composition/\n",
      "1648 distinct word(s) so far\n",
      "https://university.innopolis.ru/upload/iblock/026/IU_AR2018_eng.pdf\n",
      "Skipping https://university.innopolis.ru/upload/iblock/026/IU_AR2018_eng.pdf\n",
      "https://university.innopolis.ru/en/education/\n",
      "1680 distinct word(s) so far\n",
      "https://university.innopolis.ru/en/education/bachelor/\n",
      "1709 distinct word(s) so far\n",
      "https://university.innopolis.ru/en/education/master/\n",
      "1720 distinct word(s) so far\n",
      "https://university.innopolis.ru/en/education/stem\n",
      "1789 distinct word(s) so far\n",
      "https://university.innopolis.ru/en/education/visit\n",
      "1817 distinct word(s) so far\n",
      "https://university.innopolis.ru/en/education/shadowing-program/\n",
      "1867 distinct word(s) so far\n",
      "https://university.innopolis.ru/en/research/\n",
      "1883 distinct word(s) so far\n",
      "https://university.innopolis.ru/en/research/competitions-and-grants/\n",
      "1924 distinct word(s) so far\n",
      "https://university.innopolis.ru/en/research/robotics/\n",
      "1984 distinct word(s) so far\n",
      "https://university.innopolis.ru/en/research/iis/\n",
      "2023 distinct word(s) so far\n",
      "https://university.innopolis.ru/en/research/itsd/\n",
      "2093 distinct word(s) so far\n",
      "https://university.innopolis.ru/en/cooperation/\n",
      "2100 distinct word(s) so far\n",
      "https://university.innopolis.ru/en/cooperation/global/\n",
      "2186 distinct word(s) so far\n",
      "https://university.innopolis.ru/en/cooperation/industry/\n",
      "2219 distinct word(s) so far\n",
      "https://apply.innopolis.ru/it-degrees-en/?utm_source=ui-en-slider&utm_medium=btn&utm_campaign=ui-site\n",
      "2256 distinct word(s) so far\n",
      "https://university.innopolis.ru/en/news/\n",
      "2256 distinct word(s) so far\n",
      "https://university.innopolis.ru/en/?TAGS=Industry\n",
      "2323 distinct word(s) so far\n",
      "https://university.innopolis.ru/en/?TAGS=Research\n",
      "2391 distinct word(s) so far\n",
      "https://university.innopolis.ru/en/?TAGS=Education\n",
      "2437 distinct word(s) so far\n",
      "https://university.innopolis.ru/en/?TAGS=Students life\n",
      "2505 distinct word(s) so far\n",
      "https://university.innopolis.ru/en/?TAGS=Global\n",
      "2533 distinct word(s) so far\n",
      "https://university.innopolis.ru/en/#tile\n",
      "2533 distinct word(s) so far\n",
      "https://university.innopolis.ru/en/#line\n",
      "2533 distinct word(s) so far\n",
      "https://university.innopolis.ru/en/news/webinar-for-international-candidates-/\n",
      "2558 distinct word(s) so far\n",
      "https://university.innopolis.ru/en/news/registration-innopolis-open-2020/\n",
      "2579 distinct word(s) so far\n",
      "https://university.innopolis.ru/en/news/cyber-resilience-petrenko/\n",
      "2648 distinct word(s) so far\n",
      "https://university.innopolis.ru/en/news/innopolis-university-extends-international-application-deadline-/\n",
      "2682 distinct word(s) so far\n",
      "https://university.innopolis.ru/en/news/self-driven-school/\n",
      "2700 distinct word(s) so far\n",
      "https://university.innopolis.ru/en/news/webinar-for-international-candidates/\n",
      "2704 distinct word(s) so far\n",
      "https://university.innopolis.ru/en/news/the-first-release-for-testers-in-innopolis-university/\n",
      "2767 distinct word(s) so far\n",
      "https://university.innopolis.ru/en/news/iati-2018/\n",
      "2826 distinct word(s) so far\n",
      "Analyzing javascript:; led to FileNotFoundError\n",
      "https://university.innopolis.ru/en/?PAGEN_1=2&SIZEN_1=8\n",
      "2826 distinct word(s) so far\n",
      "https://university.innopolis.ru/en/?PAGEN_1=3&SIZEN_1=8\n",
      "2836 distinct word(s) so far\n",
      "https://university.innopolis.ru/en/?PAGEN_1=4&SIZEN_1=8\n",
      "2863 distinct word(s) so far\n",
      "https://university.innopolis.ru/en/?PAGEN_1=5&SIZEN_1=8\n",
      "2873 distinct word(s) so far\n",
      "https://university.innopolis.ru/en/?PAGEN_1=40&SIZEN_1=8\n",
      "2921 distinct word(s) so far\n",
      "https://university.innopolis.ru/en/?PAGEN_1=41&SIZEN_1=8\n",
      "2930 distinct word(s) so far\n",
      "http://english.corp.megafon.ru/\n",
      "3023 distinct word(s) so far\n",
      "http://www.vtb.com/\n",
      "3132 distinct word(s) so far\n",
      "http://rostec.ru/?lang=rus\n",
      "3346 distinct word(s) so far\n",
      "http://en.mts.ru/\n",
      "3589 distinct word(s) so far\n",
      "http://www.kirkazan.ru/en/about-the-company/company-review/\n",
      "3702 distinct word(s) so far\n",
      "http://www.acronis.com/en-eu/\n",
      "3877 distinct word(s) so far\n",
      "http://www.parallels.com/\n",
      "3941 distinct word(s) so far\n",
      "http://www.icl.ru/web/guest\n",
      "4203 distinct word(s) so far\n",
      "http://at-consulting.co.uk/\n",
      "4238 distinct word(s) so far\n",
      "http://sin-x.ru/about/\n",
      "4373 distinct word(s) so far\n",
      "http://www.i-teco.ru/en/\n",
      "4644 distinct word(s) so far\n",
      "https://corp.mail.ru/en/\n",
      "4686 distinct word(s) so far\n",
      "http://xn--h1aax.xn--p1ai/\n",
      "4757 distinct word(s) so far\n",
      "http://bars-open.ru/eng/\n",
      "4796 distinct word(s) so far\n",
      "http://etton.ru/\n",
      "4932 distinct word(s) so far\n",
      "http://www.infomatika.ru/\n",
      "5400 distinct word(s) so far\n",
      "https://kontur.ru/eng/about\n",
      "5498 distinct word(s) so far\n",
      "http://itpark-kazan.ru/ru/node/540\n",
      "5520 distinct word(s) so far\n",
      "http://cg.ru/\n",
      "5657 distinct word(s) so far\n",
      "https://www.bitrix24.com/\n",
      "5734 distinct word(s) so far\n",
      "http://rusenres.ru/\n",
      "5978 distinct word(s) so far\n",
      "http://maykor.com/en/\n",
      "6050 distinct word(s) so far\n",
      "http://www.russianpost.ru/rp/servise/en/home/postuslug/internationalmail/company\n",
      "6050 distinct word(s) so far\n",
      "http://www.kaspersky.co.uk/#\n",
      "6163 distinct word(s) so far\n",
      "http://www.sberbank.ru/en/\n",
      "6246 distinct word(s) so far\n",
      "Analyzing https://myoffice.ru/ led to FileNotFoundError\n",
      "Analyzing http://mga-security.com/ led to FileNotFoundError\n",
      "https://introscan.ru/\n",
      "6292 distinct word(s) so far\n",
      "http://www.informatics-europe.org/\n",
      "6337 distinct word(s) so far\n",
      "https://postgrespro.com/\n",
      "6441 distinct word(s) so far\n",
      "http://www.kuka-robotics.com/russia/ru/\n",
      "6926 distinct word(s) so far\n",
      "http://tatarstan.ru/eng/\n",
      "6985 distinct word(s) so far\n",
      "http://www.minsvyaz.ru/en/\n",
      "7021 distinct word(s) so far\n",
      "https://university.innopolis.ru/en/join-us/industry/\n",
      "7021 distinct word(s) so far\n",
      "Analyzing http://xn--80abucjiibhv9a.xn--p1ai/ led to FileNotFoundError\n",
      "http://www.innopolis.com/city/how-to-get/\n",
      "7191 distinct word(s) so far\n",
      "https://www.youtube.com/user/InnopolisU\n",
      "7269 distinct word(s) so far\n",
      "http://vk.com/innopolisu\n",
      "7422 distinct word(s) so far\n",
      "https://www.facebook.com/InnopolisU\n",
      "7519 distinct word(s) so far\n",
      "https://twitter.com/@InnopolisU\n",
      "7957 distinct word(s) so far\n",
      "http://habrahabr.ru/company/innopolis_university/\n",
      "7959 distinct word(s) so far\n",
      "https://university.innopolis.ru/en/#route-tab-198\n",
      "7959 distinct word(s) so far\n",
      "https://university.innopolis.ru/en/#route-tab-199\n",
      "7959 distinct word(s) so far\n",
      "https://university.innopolis.ru/en/#route-tab-route-result-200\n",
      "7959 distinct word(s) so far\n",
      "https://university.innopolis.ru/en/#route-tab-route-result-201\n",
      "7959 distinct word(s) so far\n",
      "https://docs.google.com/spreadsheets/d/139t1MN5hVdWQwpWh8oLUDMUcSou9XDyQvDUHilhKahc/pubhtml#\n",
      "8034 distinct word(s) so far\n",
      "https://university.innopolis.ru/en/tel:88002222287\n",
      "8034 distinct word(s) so far\n",
      "https://university.innopolis.ru/en/#route-tab-route-result-203\n",
      "8034 distinct word(s) so far\n",
      "https://university.innopolis.ru/en/#route-tab-route-result-202\n",
      "8034 distinct word(s) so far\n",
      "Done\n",
      "[('of', 2672), ('the', 2459), ('and', 2219), ('ул', 1357), ('university', 1161), ('innopolis', 1135), ('for', 1031), ('in', 1010), ('ост', 991), ('to', 684), ('со', 684), ('стороны', 668), ('education', 619), ('institute', 576), ('д', 558), ('a', 552), ('s', 523), ('research', 457), ('about', 453), ('и', 452)]\n"
     ]
    }
   ],
   "source": [
    "crawler = Crawler()\n",
    "counter = Counter()\n",
    "\n",
    "for c in crawler.crawl_generator(\"https://university.innopolis.ru/en/\", 2):\n",
    "    print(c.doc.url)\n",
    "    if c.doc.url[-4:] in ('.pdf', '.mp3', '.avi', '.mp4', '.txt'):\n",
    "        print(\"Skipping\", c.doc.url)\n",
    "        continue\n",
    "    counter.update(c.get_word_stats())\n",
    "    print(len(counter), \"distinct word(s) so far\")\n",
    "    \n",
    "print(\"Done\")\n",
    "\n",
    "print(counter.most_common(20))\n",
    "assert [x for x in counter.most_common(20) if x[0] == 'innopolis'], 'innopolis sould be among most common'"
   ]
  }
 ],
 "metadata": {
  "kernelspec": {
   "display_name": "Python 3",
   "language": "python",
   "name": "python3"
  },
  "language_info": {
   "codemirror_mode": {
    "name": "ipython",
    "version": 3
   },
   "file_extension": ".py",
   "mimetype": "text/x-python",
   "name": "python",
   "nbconvert_exporter": "python",
   "pygments_lexer": "ipython3",
   "version": "3.8.3"
  }
 },
 "nbformat": 4,
 "nbformat_minor": 4
}
