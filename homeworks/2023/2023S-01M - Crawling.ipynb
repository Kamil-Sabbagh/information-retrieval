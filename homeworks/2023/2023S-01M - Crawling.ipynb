{
 "cells": [
  {
   "cell_type": "markdown",
   "id": "c036ac2f-45f2-4cbf-918c-4e62c51ce1c5",
   "metadata": {},
   "source": [
    "# NB: This document contains master-level tasks\n",
    "\n",
    "## 1. [M][15] Account the caching policy\n",
    "\n",
    "Sometimes remote documents (especially when we speak about static content like `js` or `gif`) can swear that they will not change for some time. This is done by setting [Cache-Control response header](https://developer.mozilla.org/en-US/docs/Web/HTTP/Headers/Cache-Control)."
   ]
  },
  {
   "cell_type": "code",
   "execution_count": null,
   "id": "cc23fb17-ef00-4a68-a28e-870bf586d6f0",
   "metadata": {},
   "outputs": [],
   "source": [
    "import requests\n",
    "requests.get('https://polyfill.io/v3/polyfill.min.js').headers['Cache-Control']"
   ]
  },
  {
   "cell_type": "code",
   "execution_count": null,
   "id": "adbf877f-f796-4046-9456-3835db86db70",
   "metadata": {},
   "outputs": [],
   "source": [
    "# paste here your Document class implementation from \"01 - Crawling\" file\n",
    "class Document:\n",
    "    pass"
   ]
  },
  {
   "cell_type": "markdown",
   "id": "059d10b7-c8ec-4a31-baff-0f9adaa5ab2d",
   "metadata": {},
   "source": [
    "Please study the documentation and implement a descendant to a `Document` class, which will refresh the document in case of expired cache even if the file is already on the hard drive."
   ]
  },
  {
   "cell_type": "code",
   "execution_count": null,
   "id": "2d3ade05-8bd7-48f4-bfec-0df486aaa1d5",
   "metadata": {},
   "outputs": [],
   "source": [
    "class CachedDocument(Document):\n",
    "    # TODO your code here\n",
    "    pass    "
   ]
  },
  {
   "cell_type": "markdown",
   "id": "a188adbb-f046-46ce-b1c1-8397151d027b",
   "metadata": {},
   "source": [
    "### Tests\n",
    "\n",
    "Add logging to your code and show that your code behaves differently for documents with different caching policy."
   ]
  },
  {
   "cell_type": "code",
   "execution_count": null,
   "id": "7b917972-084f-43ea-85fd-2a932117ec60",
   "metadata": {},
   "outputs": [],
   "source": [
    "import time\n",
    "\n",
    "doc = CachedDocument('https://polyfill.io/v3/polyfill.min.js')\n",
    "doc.get()\n",
    "time.sleep(2)\n",
    "doc.get()\n",
    "time.sleep(2)\n",
    "doc.get()\n",
    "\n",
    "doc = CachedDocument('https://yandex.ru/')\n",
    "doc.get()\n",
    "time.sleep(2)\n",
    "doc.get()\n",
    "time.sleep(2)\n",
    "doc.get()"
   ]
  },
  {
   "cell_type": "markdown",
   "id": "3c22778c-ccde-42fe-a096-4f1978260e0a",
   "metadata": {},
   "source": [
    "## 2. [M][35] Languages\n",
    "Maybe you heard, that there are multiple languages in the world. European languages, like Russian and English, use similar puctuation, but even in this family there is ¡Spanish!\n",
    "\n",
    "Other languages can use different punctiation rules, like **Arabic or [Thai](http://www.thai-language.com/ref/breaking-words)**.\n",
    "\n",
    "Your task is to support (at least) three languages (English, Arabic, and Thai) tokenization in your `HtmlDocumentTextData` class descendant.\n",
    "\n",
    "What should you do (acceptance criteria):\n",
    "1. Use any language dection techniques, e.g. [langdetect](https://pypi.org/project/langdetect/).\n",
    "2. Use language-specific tokenization tools, e.g. for [Thai](https://pythainlp.github.io/tutorials/notebooks/pythainlp_get_started.html#Tokenization-and-Segmentation) and [Arabic](https://github.com/CAMeL-Lab/camel_tools).\n",
    "3. Use these pages to test your code: [1](https://www.bangkokair.com/tha/baggage-allowance) and [2](https://alfajr-news.net/details/%D9%85%D8%B4%D8%B1%D9%88%D8%B9-%D8%AF%D9%8A%D9%85%D9%88%D9%82%D8%B1%D8%A7%D8%B7%D9%8A-%D9%81%D9%8A-%D8%A7%D9%84%D9%83%D9%88%D9%86%D8%BA%D8%B1%D8%B3-%D8%A7%D9%84%D8%A3%D9%85%D8%B1%D9%8A%D9%83%D9%8A-%D9%84%D9%85%D8%B9%D8%A7%D9%82%D8%A8%D8%A9-%D8%A8%D9%88%D8%AA%D9%8A%D9%86).\n",
    "4. Pass the tests."
   ]
  },
  {
   "cell_type": "code",
   "execution_count": null,
   "id": "cc3959e7-7fd3-44e6-9ef5-840001ffdf6e",
   "metadata": {},
   "outputs": [],
   "source": [
    "# paste here your HtmlDocumentTextData class implementation from \"01 - Crawling\" file\n",
    "class HtmlDocumentTextData:\n",
    "    pass"
   ]
  },
  {
   "cell_type": "code",
   "execution_count": null,
   "id": "e829ea49-b334-41bf-9a6d-32cd1f046e61",
   "metadata": {},
   "outputs": [],
   "source": [
    "class MultilingualHtmlDocumentTextData(HtmlDocumentTextData):\n",
    "    #TODO your code here\n",
    "    pass"
   ]
  },
  {
   "cell_type": "markdown",
   "id": "4878c7fe-727d-4f6e-a49a-ff5e79093d89",
   "metadata": {},
   "source": [
    "### Tests"
   ]
  },
  {
   "cell_type": "code",
   "execution_count": null,
   "id": "dc116243-9e82-4de5-8167-be862740e976",
   "metadata": {},
   "outputs": [],
   "source": [
    "doc = MultilingualHtmlDocumentTextData(\"https://www.bangkokair.com/tha/baggage-allowance\")\n",
    "print(doc.get_word_stats().most_common(10))\n",
    "\n",
    "doc = MultilingualHtmlDocumentTextData(\"https://alfajr-news.net/details/%D9%85%D8%B4%D8%B1%D9%88%D8%B9-%D8%AF%D9%8A%D9%85%D9%88%D9%82%D8%B1%D8%A7%D8%B7%D9%8A-%D9%81%D9%8A-%D8%A7%D9%84%D9%83%D9%88%D9%86%D8%BA%D8%B1%D8%B3-%D8%A7%D9%84%D8%A3%D9%85%D8%B1%D9%8A%D9%83%D9%8A-%D9%84%D9%85%D8%B9%D8%A7%D9%82\")\n",
    "print(doc.get_word_stats().most_common(10))"
   ]
  }
 ],
 "metadata": {
  "kernelspec": {
   "display_name": "ai",
   "language": "python",
   "name": "ai"
  },
  "language_info": {
   "codemirror_mode": {
    "name": "ipython",
    "version": 3
   },
   "file_extension": ".py",
   "mimetype": "text/x-python",
   "name": "python",
   "nbconvert_exporter": "python",
   "pygments_lexer": "ipython3",
   "version": "3.9.7"
  }
 },
 "nbformat": 4,
 "nbformat_minor": 5
}
