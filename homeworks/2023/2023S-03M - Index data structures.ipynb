{
 "cells": [
  {
   "cell_type": "markdown",
   "id": "f0c8bff7-32ef-4f8c-879a-1a16dbd26602",
   "metadata": {},
   "source": [
    "# This file contains master-level homework on index structures\n",
    "\n",
    "You know, that you can implement an arbitrary metric? To get full points your task will be the following:\n",
    "\n",
    "1. Choose a small sample of the original data (e.g. 10K New York points).\n",
    "2. Describe each point with coordinate vector and discrete set of words in the name. **Design the metric function** -- a function, which accepts 2 objects and returns a number. This function should esimate \"distance\" in a merged space of words and distances. No common words? Far. Both common words and vectors are similar? Close!\n",
    "3. **Use this metric in index data structure**. Maybe you will [extend nmslib](https://github.com/nmslib/nmslib/issues/478), maybe you will prefer my [NSW implementation](https://github.com/IUCVLab/proximity-cut/blob/master/modules/nsw/nsw.py) ([usage](https://github.com/IUCVLab/proximity-cut/blob/master/tests/nsw-visualization.ipynb), [custom HVDM metric](https://github.com/IUCVLab/proximity-cut/blob/master/modules/tools/hvdm.py), custom metric application -- pass `dist=func` into constructor). Or maybe you will find a data structure which supports this from the box :)\n",
    "4. Run some tests!"
   ]
  },
  {
   "cell_type": "code",
   "execution_count": null,
   "id": "f8f0bb48-97e7-4a59-a3bf-9a25081a52da",
   "metadata": {},
   "outputs": [],
   "source": [
    "# copy all necessary code from another file here"
   ]
  },
  {
   "cell_type": "markdown",
   "id": "c03b24cb-9be8-44e4-bc45-2042891b624b",
   "metadata": {},
   "source": [
    "## 1. Sample some data"
   ]
  },
  {
   "cell_type": "code",
   "execution_count": null,
   "id": "2bbd2e10-e8e8-43c8-845c-65fec187f426",
   "metadata": {},
   "outputs": [],
   "source": [
    "# TODO your code here"
   ]
  },
  {
   "cell_type": "markdown",
   "id": "ce861a33-73e7-43c1-a367-2104a866e626",
   "metadata": {},
   "source": [
    "## 2. [M][10 points] Metric which accepts 2 dataset items and returns distance"
   ]
  },
  {
   "cell_type": "code",
   "execution_count": null,
   "id": "21d231a0-874b-4305-a8b3-a568e653603e",
   "metadata": {},
   "outputs": [],
   "source": [
    "# example signature\n",
    "def my_dist(a, b) -> float:\n",
    "    ap, bp = a[0], b[0]\n",
    "    atxt, btxt = a[1], b[1]\n",
    "    # TODO your code here\n",
    "    return 0"
   ]
  },
  {
   "cell_type": "markdown",
   "id": "7a1820d2-cf72-45b5-8242-7e093ce98417",
   "metadata": {},
   "source": [
    "## 3. [M][30 points] Build an index"
   ]
  },
  {
   "cell_type": "code",
   "execution_count": null,
   "id": "bfe71b69-4d53-4654-8b1f-65f18e4b7804",
   "metadata": {},
   "outputs": [],
   "source": [
    "# TODO your code here"
   ]
  },
  {
   "cell_type": "markdown",
   "id": "d7483bec-adec-4ef4-b192-946308db8af3",
   "metadata": {},
   "source": [
    "# 4. [M][10 points] write and pass some test"
   ]
  },
  {
   "cell_type": "code",
   "execution_count": null,
   "id": "f3392e3f-7a47-4ff9-9f4c-fd78e0789584",
   "metadata": {},
   "outputs": [],
   "source": [
    "def find(town, query, index):\n",
    "    # TODO your code here\n",
    "    return []"
   ]
  },
  {
   "cell_type": "code",
   "execution_count": null,
   "id": "514e198d-2ad2-4ee2-82f0-e1b5015b30ec",
   "metadata": {},
   "outputs": [],
   "source": [
    "find(\"Manhattan\", \"coffee\")"
   ]
  }
 ],
 "metadata": {
  "kernelspec": {
   "display_name": "ai",
   "language": "python",
   "name": "ai"
  },
  "language_info": {
   "codemirror_mode": {
    "name": "ipython",
    "version": 3
   },
   "file_extension": ".py",
   "mimetype": "text/x-python",
   "name": "python",
   "nbconvert_exporter": "python",
   "pygments_lexer": "ipython3",
   "version": "3.9.7"
  }
 },
 "nbformat": 4,
 "nbformat_minor": 5
}
