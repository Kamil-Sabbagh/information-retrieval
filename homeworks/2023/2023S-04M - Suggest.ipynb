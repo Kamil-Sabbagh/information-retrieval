{
 "cells": [
  {
   "cell_type": "markdown",
   "id": "7b3730f5-9365-4fb2-b008-750901048d47",
   "metadata": {},
   "source": [
    "# This is a master level homework on suggest"
   ]
  },
  {
   "cell_type": "code",
   "execution_count": null,
   "id": "b2af47f0-fce4-4f8f-ab6c-d130e1ef17c2",
   "metadata": {},
   "outputs": [],
   "source": [
    "# copy all necessary code here from another file"
   ]
  },
  {
   "cell_type": "markdown",
   "id": "9c2f46ab-a070-4fc5-961a-19e6c9415eb0",
   "metadata": {},
   "source": [
    "## 1. [M][10] Assess how dataset size affect search time\n",
    "\n",
    "Study the speed of the trie data structure in $\\frac{1}{10}, \\frac{1}{4}, \\frac{1}{2}$, and full dataset. \n",
    "- Sample the data at random.\n",
    "- Plot the graph which shows how search time changes with dataset size.\n",
    "- Compare aganist bruteforce."
   ]
  },
  {
   "cell_type": "code",
   "execution_count": null,
   "id": "56cec342-8637-4288-b739-49e871180576",
   "metadata": {},
   "outputs": [],
   "source": [
    "import matplotlib.pyplot as plt\n",
    "\n",
    "### YOUR CODE HERE"
   ]
  },
  {
   "cell_type": "markdown",
   "id": "f44c7215-aad0-4e52-9cba-5ba030655740",
   "metadata": {},
   "source": [
    "## 2. [M][20] What if the query is in the middle?\n",
    "\n",
    "Modify your code to suggest string even if the query is found **in the middle** of the text. Think about techniques you can borrow from our previous classes, e.g. about wildcard search.\n",
    "\n",
    "E.g. `Semantic Parsing` in \n",
    "\n",
    "```\n",
    "3DCNN-DQN-RNN: A Deep Reinforcement Learning Framework for Semantic Parsing of Large-scale 3D Point Clouds\n",
    "                                                           ~~~~~~~~~~~~~~~~\n",
    "```\n",
    "\n",
    "**NB**: Please extend you trie-based approach. Even if using `in` and regexp can give you same result, this is not a scalable approach, which we will not accept.\n",
    "\n",
    "Pass the asserts."
   ]
  },
  {
   "cell_type": "code",
   "execution_count": null,
   "id": "27100ce9-dfda-42d9-aac1-32b8f8617c2f",
   "metadata": {},
   "outputs": [],
   "source": [
    "newtrie = None\n",
    "\n",
    "## YOUR CODE HERE\n",
    "\n",
    "def complete_user_query_with_spellchecker_and_middle(query, trie, top_k=5) -> list[str]:\n",
    "    #TODO: suggest top_k options for a user query\n",
    "    # sort results by frequency (!), \n",
    "    # suggest the QUERIES for first k ranked urls if available\n",
    "    pass"
   ]
  },
  {
   "cell_type": "code",
   "execution_count": null,
   "id": "40e398c8-2c0e-478a-b294-8203e4c774e1",
   "metadata": {},
   "outputs": [],
   "source": [
    "assert \"ricky martin beach\" in complete_user_query_with_spellchecker_and_middle(\n",
    "            \"martin beach\", newtrie, 20)\n",
    "assert \"free adult movie\" in  complete_user_query_with_spellchecker_and_middle(\n",
    "            \"adult movie\", newtrie, 20)"
   ]
  },
  {
   "cell_type": "markdown",
   "id": "5de0559c-c1d2-4615-89d4-96f67f4c5810",
   "metadata": {},
   "source": [
    "## 3. [M][20] Enrich your suggest with search results\n",
    "\n",
    "Your users will be happy if at typing the query they see not only suggested queries, but also snippets of the answers to these queries!\n",
    "\n",
    "Imagine you type \"continental air\", and the search engine suggests you \"continental airlines\" together with the URL and snippet kind of `\"Continental Airlines was a major American airline founded in 1934 and eventually headquartered in Houston, Texas...\"`, which you borrow from the search engine snippet. How can you add existing search enginge to your code? [One](https://yandex.com/dev/xml/doc/dg/task/quickstart.html), [two](https://docs.microsoft.com/en-us/bing/search-apis/bing-web-search/search-the-web), [three](https://searx.roughs.ru/), [four](https://serpapi.com/) ...\n",
    "\n",
    "Improve your suggest. It should return a tuple of 3 instead of just a string. Your result is now `(query, text, url)`. Write your own tests which for the query `continental air` return among the results:\n",
    "1. `query` = `continental airlines`.\n",
    "2. \n",
    "`Continental Airlines was a major American airline founded in 1934` in `text`.\n",
    "3. `url` = `https://en.wikipedia.org/wiki/Continental_Airlines`."
   ]
  },
  {
   "cell_type": "code",
   "execution_count": null,
   "id": "05e26db0-0db8-4168-8433-522dd82b28cd",
   "metadata": {},
   "outputs": [],
   "source": [
    "def complete_user_query_with_spellchecker_and_middle_with_snippets(query, trie, top_k=5) -> list[tuple]:\n",
    "    #TODO\n",
    "    pass"
   ]
  },
  {
   "cell_type": "code",
   "execution_count": null,
   "id": "ea5b812e-ca26-4171-8336-2040fcd99733",
   "metadata": {},
   "outputs": [],
   "source": [
    "# TODO your tests are here"
   ]
  }
 ],
 "metadata": {
  "kernelspec": {
   "display_name": "ai",
   "language": "python",
   "name": "ai"
  },
  "language_info": {
   "codemirror_mode": {
    "name": "ipython",
    "version": 3
   },
   "file_extension": ".py",
   "mimetype": "text/x-python",
   "name": "python",
   "nbconvert_exporter": "python",
   "pygments_lexer": "ipython3",
   "version": "3.9.7"
  }
 },
 "nbformat": 4,
 "nbformat_minor": 5
}
