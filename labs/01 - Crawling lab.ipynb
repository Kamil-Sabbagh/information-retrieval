{
 "cells": [
  {
   "cell_type": "markdown",
   "id": "f70e56cb-00be-49e1-869a-deac83bac346",
   "metadata": {},
   "source": [
    "# Essential skill for the Internet crawling\n",
    "\n",
    "## Regular expressions\n",
    "\n",
    "Regular expressions (aka regex, regexp) are used to search for patterns. Machine-readable languages often have regualar structure (not always), or at least are non-ambiguous.\n",
    "\n",
    "Obvious way is, of course, to let machine parse the document and then process the result (as in the previous lab). But this often result in additinal depenencies and significant memory and time overhead (which is ok for a single document, but won't work for millions).\n",
    "\n",
    "### Simple examples"
   ]
  },
  {
   "cell_type": "code",
   "execution_count": 1,
   "id": "1be93130-a7a5-4f2d-9172-1bccf1d87123",
   "metadata": {},
   "outputs": [
    {
     "name": "stdout",
     "output_type": "stream",
     "text": [
      "\\w+: ['we', 'have', 'only', '5', 'do11ars', 'This', 'amount', 'of', 'is', 'small', 'How', 'should', 'we', 'sur', 'vive']\n",
      "\n",
      "[\\w\\-]+: ['we', 'have', 'only', '5', 'do11ars', 'This', 'amount', 'of', 'is', 'small', 'How', 'should', 'we', 'sur-vive']\n",
      "\n",
      "[0-9a-zA-Z\\-]+: ['we', 'have', 'only', '5', 'do11ars', 'This', 'amount', 'of', 'is', 'small', 'How', 'should', 'we', 'sur-vive']\n",
      "\n",
      ".+: ['we have only 5 do11ars. This amount of $ is small. How should we sur-vive?']\n",
      "\n",
      "\\S+: ['we', 'have', 'only', '5', 'do11ars.', 'This', 'amount', 'of', '$', 'is', 'small.', 'How', 'should', 'we', 'sur-vive?']\n",
      "\n",
      "\\W+[a-z]+\\-[a-z]+.$: [' sur-vive?']\n"
     ]
    }
   ],
   "source": [
    "import re\n",
    "string = \"we have only 5 do11ars. This amount of $ is small. How should we sur-vive?\"\n",
    "\n",
    "# all alphanumerics\n",
    "pattern = \"\\w+\"\n",
    "print(pattern, end=\": \")\n",
    "print(re.findall(pattern, string))\n",
    "print()\n",
    "\n",
    "# all alphanumerics but also with hyphen\n",
    "pattern = \"[\\w\\-]+\"\n",
    "print(pattern, end=\": \")\n",
    "print(re.findall(pattern, string))\n",
    "print()\n",
    "\n",
    "# the same but using explicit character enumeration\n",
    "pattern = \"[0-9a-zA-Z\\-]+\" # explicit\n",
    "print(pattern, end=\": \")\n",
    "print(re.findall(pattern, string))\n",
    "print()\n",
    "\n",
    "pattern = \".+\"\n",
    "print(pattern, end=\": \")\n",
    "print(re.findall(pattern, string))\n",
    "print()\n",
    "\n",
    "# non-spaces, not the same as \\w !\n",
    "pattern = \"\\S+\"\n",
    "print(pattern, end=\": \")\n",
    "print(re.findall(pattern, string))\n",
    "print()\n",
    "\n",
    "\n",
    "# discuss this pattern\n",
    "pattern = \"\\W+[a-z]+\\-[a-z]+.$\"\n",
    "print(pattern, end=\": \")\n",
    "print(re.findall(pattern, string))"
   ]
  },
  {
   "cell_type": "markdown",
   "id": "cbd60467-c31a-4977-af18-a77862cf60aa",
   "metadata": {},
   "source": [
    "### Find URLs/URIs vs parse the doc\n",
    "\n",
    "Instead of building DOM model and extracting `href` and `src` attributes, you may rely on the structure of the url itself. Extact all URLs from [the page](https://math.stackexchange.com/questions/411486/understanding-the-singular-value-decomposition-svd) with regexp. You major tool is [re.findall(...)](https://docs.python.org/3/library/re.html#). You may also be interested in compiled regular rexpression (if you reuse one)."
   ]
  },
  {
   "cell_type": "code",
   "execution_count": null,
   "id": "a6312c41-143c-4d38-af65-0ad9652caab7",
   "metadata": {},
   "outputs": [],
   "source": [
    "import re\n",
    "import requests\n",
    "\n",
    "url = \"https://math.stackexchange.com/questions/\"\\\n",
    "        \"411486/understanding-the-singular-value-decomposition-svd\"\n",
    "\n",
    "text = requests.get(url).text\n",
    "\n",
    "# my inspiration - \n",
    "# I took some example URL regexp from the internet, \n",
    "# specifically from here:\n",
    "# https://stackoverflow.com/questions/3809401/what-is-a-good-regular-expression-to-match-a-url\n",
    "expressions = [\n",
    "    \"(?:([A-Za-z]+):)?(\\/{0,3})([0-9.\\-A-Za-z]+)(?::(\\d+))?(?:\\/([^?#]*))?(?:\\?([^#]*))?(?:#(.*))?\",\n",
    "    \"(www|http:|https:)+[^\\s]+[\\w]\",\n",
    "    \"https?:\\/\\/(www\\.)?[-a-zA-Z0-9@:%._\\+~#=]{1,256}\\.[a-zA-Z0-9()]{1,6}\\b([-a-zA-Z0-9()@:%_\\+.~#?&//=]*)\",\n",
    "    \"[-a-zA-Z0-9@:%._\\+~#=]{1,256}\\.[a-zA-Z0-9()]{1,6}\\b([-a-zA-Z0-9()@:%_\\+.~#?&//=]*)?\",\n",
    "    \"(https?:\\/\\/(?:www\\.|(?!www))[a-zA-Z0-9][a-zA-Z0-9-]+[a-zA-Z0-9]\\.[^\\s]{2,}|www\\.[a-zA-Z0-9][a-zA-Z0-9-]+[a-zA-Z0-9]\\.[^\\s]{2,}|https?:\\/\\/(?:www\\.|(?!www))[a-zA-Z0-9]+\\.[^\\s]{2,}|www\\.[a-zA-Z0-9]+\\.[^\\s]{2,})\",\n",
    "    \"(?!mailto:)(?:(?:http|https|ftp)://)(?:\\\\S+(?::\\\\S*)?@)?(?:(?:(?:[1-9]\\\\d?|1\\\\d\\\\d|2[01]\\\\d|22[0-3])(?:\\\\.(?:1?\\\\d{1,2}|2[0-4]\\\\d|25[0-5])){2}(?:\\\\.(?:[0-9]\\\\d?|1\\\\d\\\\d|2[0-4]\\\\d|25[0-4]))|(?:(?:[a-z\\\\u00a1-\\\\uffff0-9]+-?)*[a-z\\\\u00a1-\\\\uffff0-9]+)(?:\\\\.(?:[a-z\\\\u00a1-\\\\uffff0-9]+-?)*[a-z\\\\u00a1-\\\\uffff0-9]+)*(?:\\\\.(?:[a-z\\\\u00a1-\\\\uffff]{2,})))|localhost)(?::\\\\d{2,5})?(?:(/|\\\\?|#)[^\\\\s]*)?\",\n",
    "    \"https?:\\/\\/(?:www\\.)?[-a-zA-Z0-9@:%._\\+~#=]{1,256}\\.[a-zA-Z0-9()]{1,6}\\b(?:[-a-zA-Z0-9()@:%_\\+.~#?&\\/=]*)\",\n",
    "]\n",
    "\n",
    "for expression in expressions:\n",
    "    print()\n",
    "    pattern = re.compile(expression)\n",
    "    urls = pattern.findall(text)\n",
    "    print(expression)\n",
    "    print(urls[:10])"
   ]
  },
  {
   "cell_type": "markdown",
   "id": "63197434-4483-4d3c-ae0f-0dfb91f396b7",
   "metadata": {},
   "source": [
    "Was this success? \n",
    "\n",
    "Compose your own minimalistic:"
   ]
  },
  {
   "cell_type": "code",
   "execution_count": 3,
   "id": "d2055e8c-20d1-4cfe-9229-0f22a24183fb",
   "metadata": {},
   "outputs": [
    {
     "name": "stdout",
     "output_type": "stream",
     "text": [
      "['https://schema.org/QAPage', 'https://cdn.sstatic.net/Sites/math/Img/favicon.ico?v=92addaa54d18', 'https://cdn.sstatic.net/Sites/math/Img/apple-touch-icon.png?v=0ae50baa40ed', 'https://cdn.sstatic.net/Sites/math/Img/apple-touch-icon.png?v=0ae50baa40ed', 'https://math.stackexchange.com/questions/411486/understanding-the-singular-value-decomposition-svd', 'https://math.stackexchange.com/questions/411486/understanding-the-singular-value-decomposition-svd', 'https://cdn.sstatic.net/Sites/math/Img/apple-touch-icon', 'https://cdn.sstatic.net/', 'https://ajax.googleapis.com/ajax/libs/jquery/1.12.4/jquery.min.js', 'https://cdn.sstatic.net/Js/third-party/npm/', 'https://cdn.sstatic.net/Js/stub.en.js?v=0e3ada576039', 'https://cdn.sstatic.net/Shared/stacks.css?v=5ad0f45f4799', 'https://cdn.sstatic.net/Sites/math/primary.css?v=ec2e4cf949af', 'https://math.stackexchange.com/questions/411486/understanding-the-singular-value-decomposition-svd', 'https://cdn.sstatic.net/Shared/Channels/channels.css?v=d098999fc478', 'https://cdn.sstatic.net/Js/third-party/citation-helper.js?v=2591ce444a3f', 'https://cdnjs.cloudflare.com/ajax/libs/mathjax/2.7.5/MathJax.js?config=TeX-AMS_HTML-full', 'https://stackauth.com', 'https://math.meta.stackexchange.com', 'https://cdn.sstatic.net/Img/stacks-icons']\n"
     ]
    }
   ],
   "source": [
    "import re\n",
    "import requests\n",
    "\n",
    "url = \"https://math.stackexchange.com/questions/\"\\\n",
    "        \"411486/understanding-the-singular-value-decomposition-svd\"\n",
    "\n",
    "text = requests.get(url).text\n",
    "\n",
    "protocol = \"https?://\"\n",
    "domain = \"[\\w\\-\\.]+\"\n",
    "path = \"[/\\w\\-\\.]*\"\n",
    "args =  \"(?:\\?[\\w\\=&-_;\\[\\]]+)?\"\n",
    "hashtail = \"(?:#[\\w$%-_;]+)?\"\n",
    "\n",
    "expression = protocol + domain + path + args + hashtail\n",
    "pattern = re.compile(expression)\n",
    "regexp_urls = pattern.findall(text)\n",
    "print(regexp_urls[:20])"
   ]
  },
  {
   "cell_type": "markdown",
   "id": "d2174daf-3ea2-4622-89d2-751aed1e29b9",
   "metadata": {},
   "source": [
    "# Streams and files\n",
    "\n",
    "When you deal with the big files you should take care about the RAM. Today 1GB won't suprise anyone on the desktop, but server machines, which implement crawlers, may be optimized for the resource.\n",
    "\n",
    "Using streams instead of RAM-cached files is a good strategy.\n",
    "\n",
    "- Look for solution here: https://stackoverflow.com/a/16696317\n",
    "- Look for the sample big file here: http://xcal1.vodafone.co.uk/\n",
    "- Read about python memory measurement here: https://pythonspeed.com/articles/measuring-memory-python/"
   ]
  },
  {
   "cell_type": "code",
   "execution_count": 4,
   "id": "c819e5ad-2c3e-43b1-a45c-2c1db556e4d9",
   "metadata": {},
   "outputs": [],
   "source": [
    "import psutil, gc \n",
    "\n",
    "def get_mem():\n",
    "    return psutil.Process().memory_info().rss"
   ]
  },
  {
   "cell_type": "code",
   "execution_count": 5,
   "id": "3d45cfdf-661e-47bb-a2c1-336b7d091a53",
   "metadata": {},
   "outputs": [],
   "source": [
    "large_file_url = \"http://212.183.159.230/100MB.zip\""
   ]
  },
  {
   "cell_type": "markdown",
   "id": "5c447d2f-383b-4d5e-ad83-67feab474dec",
   "metadata": {},
   "source": [
    "First, download the file as you would do it simple way:"
   ]
  },
  {
   "cell_type": "code",
   "execution_count": 6,
   "id": "77d31dd2-b334-4d77-820e-ed78b81ad5c4",
   "metadata": {},
   "outputs": [
    {
     "name": "stdout",
     "output_type": "stream",
     "text": [
      "Resident set size: 77885440\n",
      "Resident set size: 226037760\n",
      "Resident set size: 226041856\n",
      "Resident set size: 226041856\n"
     ]
    }
   ],
   "source": [
    "gc.collect()\n",
    "print(\"Resident set size:\", get_mem())\n",
    "data = requests.get(large_file_url).content\n",
    "print(\"Resident set size:\", get_mem())\n",
    "\n",
    "with open('100-RAM', 'wb') as f:\n",
    "    f.write(data)\n",
    "\n",
    "print(\"Resident set size:\", get_mem())\n",
    "data = None\n",
    "gc.collect()\n",
    "print(\"Resident set size:\", get_mem())"
   ]
  },
  {
   "cell_type": "markdown",
   "id": "05ad622c-6821-467d-8f9d-6269fed14097",
   "metadata": {},
   "source": [
    "And then use the streaming mode of the `requests` library."
   ]
  },
  {
   "cell_type": "code",
   "execution_count": 7,
   "id": "0f20b4eb-a60c-4be1-910e-c029bdf4cb2c",
   "metadata": {},
   "outputs": [
    {
     "name": "stdout",
     "output_type": "stream",
     "text": [
      "Resident set size: 226054144\n",
      "Resident set size: 226754560\n"
     ]
    }
   ],
   "source": [
    "import requests\n",
    "import shutil\n",
    "\n",
    "def download_file(url, destination):\n",
    "    with requests.get(url, stream=True) as r:\n",
    "        r.raise_for_status()\n",
    "        with open(destination, 'wb') as f:\n",
    "            shutil.copyfileobj(r.raw, f)\n",
    "\n",
    "gc.collect()\n",
    "print(\"Resident set size:\", get_mem())\n",
    "download_file(large_file_url, \"100-stream\")\n",
    "print(\"Resident set size:\", get_mem())"
   ]
  },
  {
   "cell_type": "markdown",
   "id": "b02814d2-da81-40c6-baa2-a1453626df3a",
   "metadata": {},
   "source": [
    "# BeautifulSoup\n",
    "\n",
    "Plain text HTML is a mixture of content, markup, and code. Extracting structure, or URLs, or plain text might be tricky with regular expressions. \n",
    "\n",
    "Building a DOM model is slow, but may save a lot of code and keep you from mistakes.\n",
    "\n",
    "## Extract all sentences\n",
    "For indexing and semantic analysis we use different granularity. Often sentence is a good choice. "
   ]
  },
  {
   "cell_type": "code",
   "execution_count": 8,
   "id": "186a793c-39ea-463d-8106-b719e4de3e33",
   "metadata": {},
   "outputs": [
    {
     "name": "stdout",
     "output_type": "stream",
     "text": [
      "['Jun 4, 2013 at 22:55', '$\\\\begingroup$', 'Thanks @julien.', 'Thanks for your comment.', 'I read what are singular values in the D matrix.', 'I know they are square roots of eigenvalues of $\\\\textbf{A}^{\\\\textrm{T}}\\\\textbf{A}$.', \"What I don't understand is the meaning?\", 'I know if I e.g.', 'take covariance matrix and diagonalize it, I end up with eigenvalues (or maximum/unique/?singular?', 'values) in a diagonal matrix representing variances.']\n"
     ]
    }
   ],
   "source": [
    "from bs4 import BeautifulSoup\n",
    "from bs4.element import Comment\n",
    "from nltk import tokenize\n",
    "\n",
    "doc_url = \"https://math.stackexchange.com/questions/\"\\\n",
    "        \"411486/understanding-the-singular-value-decomposition-svd\"\n",
    "\n",
    "text = requests.get(doc_url).text\n",
    "dom = BeautifulSoup(text)\n",
    "paragraphs = [p.strip() for p in dom.text.split('\\n') if p.strip()]\n",
    "\n",
    "sents = []\n",
    "for p in paragraphs:\n",
    "    sents += tokenize.sent_tokenize(p)\n",
    "\n",
    "print(sents[90:100])"
   ]
  },
  {
   "cell_type": "markdown",
   "id": "8ead20dc-0608-4dde-a34a-3663692c9c6c",
   "metadata": {},
   "source": [
    "# Extract URLs from nodes\n",
    "\n",
    "Be careful with relative links. How would you process them?"
   ]
  },
  {
   "cell_type": "code",
   "execution_count": 9,
   "id": "33586e48-d334-4641-9d37-a24894026b86",
   "metadata": {},
   "outputs": [
    {
     "data": {
      "text/plain": [
       "['https://mathematica.stackexchange.com/questions/275684/how-can-i-write-this-using-less-variables',\n",
       " 'https://space.stackexchange.com/questions/60883/life-support-system-weight-estimate',\n",
       " 'https://math.stackexchange.com/questions/704238/singular-value-decomposition-of-rank-1-matrix',\n",
       " 'https://stackoverflow.co/company/press',\n",
       " 'https://math.stackexchange.com/questions/tagged/matrix-decomposition',\n",
       " 'https://try.stackoverflow.co/why-teams/?utm_source=so-owned&utm_medium=side-bar&utm_campaign=campaign-38&utm_content=cta',\n",
       " 'https://linkedin.com/company/stack-overflow',\n",
       " 'https://www.instagram.com/thestackoverflow',\n",
       " 'https://math.stackexchange.com/questions/816884/relationship-between-the-singular-value-decomposition-svd-and-the-principal-co',\n",
       " 'https://math.stackexchange.com/tags']"
      ]
     },
     "execution_count": 9,
     "metadata": {},
     "output_type": "execute_result"
    }
   ],
   "source": [
    "import urllib.parse\n",
    "\n",
    "all_hrefs = dom.find_all('a', href=True)\n",
    "all_urls = set()\n",
    "for a in all_hrefs:\n",
    "    url = a['href']\n",
    "    url = urllib.parse.urljoin(doc_url, url)\n",
    "    all_urls.add(url)\n",
    "\n",
    "all_urls = list(all_urls)\n",
    "all_urls[:10]"
   ]
  },
  {
   "cell_type": "markdown",
   "id": "f9951d22-ec99-4d13-ad47-38d35d388827",
   "metadata": {},
   "source": [
    "Discuss the next result:"
   ]
  },
  {
   "cell_type": "code",
   "execution_count": 10,
   "id": "ec65f900-3a74-4664-8b38-301f7c292649",
   "metadata": {},
   "outputs": [
    {
     "name": "stdout",
     "output_type": "stream",
     "text": [
      "|DOM ∩ REGX| = 50\n",
      "|DOM \\ REGX| = 90\n",
      "|REGX \\ DOM| = 71\n"
     ]
    }
   ],
   "source": [
    "print(\"|DOM ∩ REGX| =\", len(set(all_urls) & set(regexp_urls)))\n",
    "print(\"|DOM \\ REGX| =\", len(set(all_urls) - set(regexp_urls)))\n",
    "print(\"|REGX \\ DOM| =\", len(set(regexp_urls) - set(all_urls)))"
   ]
  },
  {
   "cell_type": "markdown",
   "id": "9a6bb8ed-9a9b-44db-bb97-9ef6cfe69b97",
   "metadata": {},
   "source": [
    "# Unique file name\n",
    "\n",
    "Please, never try to convert a domain (`google.com`), or a path component (`/index.php`) into a filename. They are not unique!\n",
    "\n",
    "Also, better not to try to substitute sensitive symbols of the full URL (`/:`...) -- you will definitely forget one. Also, you may easily overflow file name.\n",
    "\n",
    "Nice way is to use hash strings with fixed length and character set. Compute hash strings from the previous list."
   ]
  },
  {
   "cell_type": "code",
   "execution_count": 11,
   "id": "83ab186e-d4e0-4612-a4f4-be7eadae4d47",
   "metadata": {},
   "outputs": [
    {
     "name": "stdout",
     "output_type": "stream",
     "text": [
      "580c896703b639c47da3cf30be6a78fb5a831302 https://mathema...-less-variables\n",
      "42af2a47767f85259c15acc787b9e012eea6546a https://space.s...weight-estimate\n",
      "0440787fda1ce3524156f5f2e8125236f56c7938 https://math.st...f-rank-1-matrix\n",
      "537f99069a4a9ea7fade70e8965ce649761c35d3 https://stackov...o/company/press\n",
      "7213bb1c3dc14ce0556ab4ae331d16e3d19fb7f1 https://math.st...x-decomposition\n",
      "4814f9498243604b1389d9b29748f0409259871c https://try.sta...utm_content=cta\n",
      "07ebb6201d0237b1221669f4fe8bc3a1059801cf https://linkedi.../stack-overflow\n",
      "94cca9af043d0cd0180df9a5ccd6994894b5a32e https://www.ins...hestackoverflow\n",
      "79b30ae1372efe609c895a9486889e7a21f3ecf1 https://math.st...he-principal-co\n",
      "52268fea4169df93b9c8f0eb65acb2e8fb80ce26 https://math.st...change.com/tags\n",
      "bc68302b130f462c04f1f42ba3595f153393e835 https://math.st...11486/revisions\n",
      "1b693522de70d4d61b2df723b69f98703983b31a https://mathove...absolute-values\n",
      "ae60f62b3195c9be30f748ceb6bba04c62b0cc83 https://math.st...ions/tagged/svd\n",
      "a9b97ece3afe2c0c36f997f5287ee9b4e79162df https://meta.st...-decommissioned\n",
      "da46726ebfcd412c643f37853ee3de417c5aad8e https://math.st...bart-vanderbeke\n",
      "0d7daa3c64a2de961a2a002729e97e0b02b1234a https://math.st...rs/81007/celdor\n",
      "2d1728113367210aaf9c8b3d7d661b2f9b4889e6 https://math.st...vd?noredirect=1\n",
      "4cf5f3883bfc22f3253da0f8036109483dc64336 https://math.st...composition-svd\n",
      "55836522d4c883228d83e2c06c03b0a3bba1e8a5 https://stackov...ceiving-to-fail\n",
      "17c17e9594bd57883b73a55cf468ca41c19c2bfa https://api.sta...ckexchange.com/\n"
     ]
    }
   ],
   "source": [
    "import hashlib\n",
    "\n",
    "for url in all_urls[:20]:\n",
    "    s = hashlib.sha1(url.encode(\"utf-8\")).hexdigest()\n",
    "    print(s, url[:15] + \"...\" + url[-15:])"
   ]
  }
 ],
 "metadata": {
  "kernelspec": {
   "display_name": "ai",
   "language": "python",
   "name": "ai"
  },
  "language_info": {
   "codemirror_mode": {
    "name": "ipython",
    "version": 3
   },
   "file_extension": ".py",
   "mimetype": "text/x-python",
   "name": "python",
   "nbconvert_exporter": "python",
   "pygments_lexer": "ipython3",
   "version": "3.9.7"
  }
 },
 "nbformat": 4,
 "nbformat_minor": 5
}
