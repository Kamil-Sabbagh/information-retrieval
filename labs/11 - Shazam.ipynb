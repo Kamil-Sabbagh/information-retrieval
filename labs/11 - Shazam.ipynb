{
 "cells": [
  {
   "cell_type": "markdown",
   "metadata": {},
   "source": [
    "# Shazam\n",
    "\n",
    "Have you ever wondered what is happening under the hood of the popular music search tool? How can a track be indentified among the millions of other tracks by a short sample in just a few seconds? Obviously, this is not a mere brute force. Today we will remove the veil and find out what kind of magic happens there by implementing the algorithm on our own.\n",
    "\n",
    "Refer to the [original article](https://www.ee.columbia.edu/~dpwe/papers/Wang03-shazam.pdf) for implementation details.\n",
    "\n",
    "## Installing needed libraries"
   ]
  },
  {
   "cell_type": "code",
   "execution_count": null,
   "metadata": {},
   "outputs": [],
   "source": [
    "# you may need ffmpeg to be installed\n",
    "!conda install -c conda-forge ffmpeg -y\n",
    "\n",
    "# please read https://github.com/librosa/librosa\n",
    "!pip install librosa --user"
   ]
  },
  {
   "cell_type": "markdown",
   "metadata": {},
   "source": [
    "## Reading and resampling audio tracks database"
   ]
  },
  {
   "cell_type": "code",
   "execution_count": null,
   "metadata": {},
   "outputs": [],
   "source": [
    "# for details refer to:\n",
    "# https://nbviewer.jupyter.org/github/librosa/librosa/blob/master/examples/LibROSA%20demo.ipynb\n",
    "# Librosa for audio\n",
    "import librosa\n",
    "# And the display module for visualization\n",
    "import librosa.display\n",
    "\n",
    "prefix = '../datasets/mp3/'\n",
    "audios = ['ACDC.mp3', 'iamthemorning.mp3', 'Little Big.mp3']\n",
    "request_audio = 'request.mp3'\n",
    "\n",
    "def read_and_resample(path, sample_rate):\n",
    "    # read and resample to 22KHz\n",
    "    y, sr = librosa.load(path, sr=sample_rate)    \n",
    "    print(f\"{path} length is {y.shape[0] / sample_rate / 60.:.2f} min\")\n",
    "    return y\n",
    "\n",
    "dataset = {}\n",
    "sample_rate = 22050\n",
    "\n",
    "# reading all audios\n",
    "for path in audios:\n",
    "    dataset[path] = read_and_resample(prefix + path, sample_rate)\n",
    "\n",
    "# reading request audio\n",
    "request_data = read_and_resample(prefix + request_audio, sample_rate)"
   ]
  },
  {
   "cell_type": "markdown",
   "metadata": {},
   "source": [
    "## Visualizing example spectrogram\n",
    "\n",
    "We will use [Mel scale](https://en.wikipedia.org/wiki/Mel_scale) to emphasize perception rather than amplitude."
   ]
  },
  {
   "cell_type": "code",
   "execution_count": null,
   "metadata": {},
   "outputs": [],
   "source": [
    "import numpy as np\n",
    "import matplotlib.pyplot as plt\n",
    "\n",
    "y = dataset['ACDC.mp3']\n",
    "\n",
    "# Let's make and display a mel-scaled power (energy-squared) spectrogram\n",
    "S = librosa.feature.melspectrogram(y=y, sr=sample_rate, n_mels=128)\n",
    "\n",
    "print(f\"Spectrogram shape: {S.shape}\")\n",
    "\n",
    "# Convert to log scale (dB). We'll use the peak power (max) as reference.\n",
    "log_S = librosa.power_to_db(S, ref=np.max)\n",
    "\n",
    "plt.figure(figsize=(12,4))\n",
    "librosa.display.specshow(log_S, sr=sample_rate, x_axis='time', y_axis='mel')\n",
    "plt.title('mel power spectrogram')\n",
    "plt.colorbar(format='%+02.0f dB')\n",
    "plt.tight_layout()"
   ]
  },
  {
   "cell_type": "markdown",
   "metadata": {},
   "source": [
    "## Forming constellations\n",
    "\n",
    "We will do something like this from our spectrogram. Not exactly as in the paper, but very similar :)\n",
    "\n",
    "<img src=\"https://cdn.dxomark.com/wp-content/uploads/medias/post-50538/Spectrogram_Fingerprinting.png\" width=\"800\"/>\n",
    "\n",
    "This will include:\n",
    "- get spectrogram\n",
    "- find local maxima with [computer vision algrithm (wow!)](https://docs.scipy.org/doc/scipy/reference/generated/scipy.ndimage.maximum_filter.html): run maximum filtering and then compare original values with filtered.\n",
    "- `ndimage.label()` labels different connected components\n",
    "- `ndimage.find_objects()` returns their coordinates\n",
    "- for each connected component of size 1 (`(dx.stop - dx.start) * (dy.stop - dy.start) == 1`) save a center, which will correspond to a \"star\""
   ]
  },
  {
   "cell_type": "code",
   "execution_count": null,
   "metadata": {},
   "outputs": [],
   "source": [
    "from scipy.ndimage.filters import maximum_filter\n",
    "import scipy.ndimage as ndimage\n",
    "neighborhood_size = 20\n",
    "\n",
    "# sec/sample - constant for all files\n",
    "wav = dataset[\"ACDC.mp3\"]\n",
    "time_resolution = (wav.shape[0] / sample_rate) / S.shape[1]\n",
    "print(f\"Query time resolution {time_resolution:.4f}\")\n",
    "\n",
    "def form_constellation(name, wav, sample_rate):\n",
    "    S = librosa.feature.melspectrogram(y=wav, sr=sample_rate, n_mels=256, fmax=4000)\n",
    "    t_resolution = (wav.shape[0] / sample_rate) / S.shape[1]\n",
    "    S = librosa.power_to_db(S, ref=np.max)\n",
    "    # get local maxima\n",
    "    Sb = maximum_filter(S, neighborhood_size) == S\n",
    "    \n",
    "    Sbd, num_objects = ndimage.label(Sb)\n",
    "    objs = ndimage.find_objects(Sbd)\n",
    "    points = []\n",
    "    for dy, dx in objs:\n",
    "        x_center = (dx.start + dx.stop - 1) // 2\n",
    "        y_center = (dy.start + dy.stop - 1) // 2    \n",
    "        if (dx.stop - dx.start) * (dy.stop - dy.start) == 1:\n",
    "            points.append((x_center, y_center))\n",
    "            \n",
    "    # 20 seconds\n",
    "    low = int(0 / t_resolution)\n",
    "    hi = int(20 / t_resolution)\n",
    "    print(f\"File: {name}\")\n",
    "    print(f\"Points in constellation {len(points)}\")\n",
    "\n",
    "    # here we show results of max filter, before removing big blocks. \n",
    "    # This is not exactly the same which we saved.\n",
    "    # Only single-point connected components are in `points` array.\n",
    "    plt.figure(figsize=(12,6))\n",
    "    plt.imshow(Sb[:, low:hi], cmap='gray_r')\n",
    "    plt.show()\n",
    "    return sorted(points) \n",
    "    \n",
    "\n",
    "constellations = {}\n",
    "for name, wav in dataset.items():\n",
    "    constellations[name] = form_constellation(name, wav, sample_rate)\n",
    "\n",
    "request_constellation = form_constellation(request_audio, request_data, sample_rate)"
   ]
  },
  {
   "cell_type": "markdown",
   "metadata": {},
   "source": [
    "## Build index from constellations \n",
    "\n",
    "Here you will build an in-memory index from constellations. Follow the algorithm:\n",
    "1. For every \"star\" $(t_1, f_1)$ on constellation consider some constellation window (`target`) of time and frequency shift. In example this is `(+1, +5) sec` and `(-50, +50) Hz`. In original paper they propose to use SOME \"stars\". If you propose your own selection method - this is also good, as it speeds up computations.\n",
    "2. If a \"star\" $(t_2, f_2)$ falls into a `target` window, create or update and index entry. Form a key as $(f1, f2, \\Delta t=t_2-t_1)$, and a value is $(t_1, filename)$."
   ]
  },
  {
   "cell_type": "code",
   "execution_count": null,
   "metadata": {
    "scrolled": true
   },
   "outputs": [],
   "source": [
    "# (start_time, end_time, freq_Hz_low, freq_Hz_high)\n",
    "target = (int(1 / time_resolution), int(5 / time_resolution), -50, 50)\n",
    "\n",
    "index = {}\n",
    "request = {}\n",
    "\n",
    "def build_constellation_index(constellation_collection, target):\n",
    "    # TODO: build shazam index for a collection of constellations\n",
    "    # consider some window (target) for every point P in constellation.\n",
    "    # For each point W inside this window (see `target` tuple) make an entry in the index,\n",
    "    # (or update it, if the key exists).\n",
    "    # Keys are triplets of the form (f1=P.freq, f2=W.freq, dt=W.time-P.time), \n",
    "    # Values are lists with tuples (t=P.time, name=Filename)\n",
    "\n",
    "    result_index = {}\n",
    "    \n",
    "    # TODO: your code here\n",
    "\n",
    "    return result_index\n",
    "\n",
    "index = build_constellation_index(constellations, target)\n",
    "request = build_constellation_index({request_audio:request_constellation}, target)"
   ]
  },
  {
   "cell_type": "markdown",
   "metadata": {},
   "source": [
    "## Compare `request.mp3` track with the database using index queries.\n",
    "\n",
    "1. For every audio file from index find all keys that match query keys.\n",
    "2. for every such match calculate time offset (difference between audio $t_1$ and query $t_1$)\n",
    "3. Display counts of matches for every time offset (using histogram, for example)"
   ]
  },
  {
   "cell_type": "code",
   "execution_count": 6,
   "metadata": {
    "tags": []
   },
   "outputs": [
    {
     "name": "stdout",
     "output_type": "stream",
     "text": [
      "ACDC.mp3\n"
     ]
    },
    {
     "data": {
      "image/png": "[encoded data removed]",
      "text/plain": [
       "<Figure size 432x288 with 1 Axes>"
      ]
     },
     "metadata": {
      "needs_background": "light"
     },
     "output_type": "display_data"
    },
    {
     "name": "stdout",
     "output_type": "stream",
     "text": [
      "iamthemorning.mp3\n"
     ]
    },
    {
     "data": {
      "image/png": "[encoded data removed]",
      "text/plain": [
       "<Figure size 432x288 with 1 Axes>"
      ]
     },
     "metadata": {
      "needs_background": "light"
     },
     "output_type": "display_data"
    },
    {
     "name": "stdout",
     "output_type": "stream",
     "text": [
      "Little Big.mp3\n"
     ]
    },
    {
     "data": {
      "image/png": "[encoded data removed]",
      "text/plain": [
       "<Figure size 432x288 with 1 Axes>"
      ]
     },
     "metadata": {
      "needs_background": "light"
     },
     "output_type": "display_data"
    }
   ],
   "source": [
    "# TODO for every audio find all keys that match request audio keys \n",
    "# for every such match calculate time offset (difference between audio and request)\n",
    "# display counts of matches for every time offset (using histogram, for example)"
   ]
  },
  {
   "cell_type": "markdown",
   "metadata": {},
   "source": [
    "# 3. Similarity function\n",
    "\n",
    "Implement a function, which will be estimating similarity of 2 audio tracks in some numbers. It should return 2 numbers: similarity estimation and audio offset (how start of one track is shifted with respect to another, if possible).\n",
    "\n",
    "We are not giving any particular instructions on HOW to do this, but you can definitely start thinking from:\n",
    "1. Norming and thresholding.\n",
    "2. Use [mode](https://en.wikipedia.org/wiki/Mode_(statistics)) to find a peak and some heuristics yo assess its quality. E.g. [in python](https://docs.python.org/3/library/statistics.html).\n",
    "3. Use [kurtosis](https://en.wikipedia.org/wiki/Kurtosis) statistics to assess the sharpness of distribution. E.g. [in python](https://docs.scipy.org/doc/scipy/reference/generated/scipy.stats.kurtosis.html)."
   ]
  },
  {
   "cell_type": "code",
   "execution_count": null,
   "metadata": {},
   "outputs": [],
   "source": [
    "from collections import Counter\n",
    "sample_rate = 22050\n",
    "target = (int(1 / time_resolution), int(5 / time_resolution), -50, 50)\n",
    "\n",
    "\n",
    "def similarity(audio, query):\n",
    "\n",
    "    audio_data = read_and_resample(audio, sample_rate)\n",
    "    audio_constellation = form_constellation(audio, audio_data, sample_rate)\n",
    "    audio_idx = build_constellation_index({audio: audio_constellation}, target)\n",
    "    query_data = read_and_resample(query, sample_rate)\n",
    "    query_constellation = form_constellation(query, query_data, sample_rate)\n",
    "    query_idx = build_constellation_index({query: query_constellation}, target)\n",
    "\n",
    "    # ... write your code here\n",
    "    \n",
    "    similarity = ...\n",
    "    offset = ...\n",
    "    return similarity, offset\n",
    "\n",
    "\n",
    "sim, off = similarity(prefix + 'ACDC.mp3', prefix + 'request.mp3')\n",
    "assert abs(abs(off) - 60) < 5, \"Offset value for these 2 tracks should be around 1 minute.\""
   ]
  }
 ],
 "metadata": {
  "kernelspec": {
   "display_name": "ai",
   "language": "python",
   "name": "ai"
  },
  "language_info": {
   "codemirror_mode": {
    "name": "ipython",
    "version": 3
   },
   "file_extension": ".py",
   "mimetype": "text/x-python",
   "name": "python",
   "nbconvert_exporter": "python",
   "pygments_lexer": "ipython3",
   "version": "3.9.7"
  }
 },
 "nbformat": 4,
 "nbformat_minor": 4
}
