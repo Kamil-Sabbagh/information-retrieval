{
 "cells": [
  {
   "cell_type": "markdown",
   "metadata": {},
   "source": [
    "# PageRank\n",
    "Today we will implement PageRank algorithm for a small collection of document about Information Retrieval. For this we will extract link information from Wikipedia and build a Google Matrix. \n",
    "\n",
    "Based on the matrix you will build a *reputation ranking for the documents*.\n",
    "\n",
    "<!-- To obtain ranking result you can use:\n",
    "- Naïve approach with matrix inversion\n",
    "- Power Method\n",
    " -->\n",
    "# Download a dataset\n",
    "\n",
    "**You can use this code to reproduce the whole pipeline on your machine**. \n",
    "BUT, Below you will find the code, which loads the prepared adjacency matrix from the string."
   ]
  },
  {
   "cell_type": "code",
   "execution_count": null,
   "metadata": {},
   "outputs": [],
   "source": [
    "!pip install wikipedia"
   ]
  },
  {
   "cell_type": "code",
   "execution_count": 2,
   "metadata": {},
   "outputs": [
    {
     "name": "stderr",
     "output_type": "stream",
     "text": [
      "100%|██████████| 40/40 [00:23<00:00,  1.72it/s]\n"
     ]
    }
   ],
   "source": [
    "import wikipedia\n",
    "\n",
    "pages = [\n",
    "    \"Bag-of-words model\",\n",
    "    \"Bayes' theorem\",\n",
    "    \"Cluster analysis\",\n",
    "    \"Content-based image retrieval\",\n",
    "    \"Database\",\n",
    "    \"Deep learning\",\n",
    "    \"Desktop search\",\n",
    "    \"Dimensionality reduction\",\n",
    "    \"Discounted Cumulative Gain\",\n",
    "    \"Eigenvector\",\n",
    "    \"Full-text search\",\n",
    "    \"Hypertext\",\n",
    "    \"Image retrieval\",\n",
    "    \"Information_retrieval\",\n",
    "    \"Information system\",\n",
    "    \"K-nearest neighbors algorithm\",\n",
    "    \"Language model\",\n",
    "    \"Latent Dirichlet allocation\",\n",
    "    \"Latent semantic analysis\",\n",
    "    \"Low-rank approximation\",\n",
    "    \"Multimedia information retrieval\",\n",
    "    \"Netflix Prize\",\n",
    "    \"Netflix\",\n",
    "    \"Ranking (information retrieval)\",\n",
    "    \"Recommender systems\",\n",
    "    \"Relevance (information retrieval)\",\n",
    "    \"Rocchio algorithm\",\n",
    "    \"Search algorithm\",\n",
    "    \"Search engines\",\n",
    "    \"Semantic search\",\n",
    "    \"Semantic web\",\n",
    "    \"Sentiment analysis\",\n",
    "    \"Similarity search\",\n",
    "    \"Search engine (computing)\",  # was \"Site search before\"\n",
    "    \"Text mining\",\n",
    "    \"Text Retrieval Conference\",\n",
    "    \"Tf–idf\",\n",
    "    \"Vector space model\",\n",
    "    \"Web crawler\",\n",
    "    \"World Wide Web\"\n",
    "]\n",
    "\n",
    "import tqdm\n",
    "\n",
    "dataset = {}\n",
    "for page in tqdm.tqdm(pages):\n",
    "    dataset[page] = wikipedia.page(page, auto_suggest=False)"
   ]
  },
  {
   "cell_type": "markdown",
   "metadata": {},
   "source": [
    "## Essential data is stored in adjacency matrix\n",
    "\n",
    "Here we create a 0/1 adjacency matrix."
   ]
  },
  {
   "cell_type": "code",
   "execution_count": 3,
   "metadata": {},
   "outputs": [
    {
     "name": "stderr",
     "output_type": "stream",
     "text": [
      "100%|██████████| 40/40 [00:26<00:00,  1.52it/s]\n"
     ]
    },
    {
     "data": {
      "image/png": "[encoded data removed]",
      "text/plain": [
       "<Figure size 432x288 with 1 Axes>"
      ]
     },
     "metadata": {
      "needs_background": "light"
     },
     "output_type": "display_data"
    }
   ],
   "source": [
    "import numpy as np\n",
    "import tqdm\n",
    "import matplotlib.pyplot as plt\n",
    "\n",
    "A = np.zeros((len(pages), len(pages)))\n",
    "for j, page in enumerate(tqdm.tqdm(pages)):\n",
    "    for link in dataset[page].links:\n",
    "        if link in pages:\n",
    "            i = pages.index(link)\n",
    "            A[i, j] = 1\n",
    "\n",
    "plt.imshow(A)\n",
    "plt.show()"
   ]
  },
  {
   "cell_type": "code",
   "execution_count": 4,
   "metadata": {},
   "outputs": [
    {
     "name": "stdout",
     "output_type": "stream",
     "text": [
      "0000000000000000011000000000000100100100000000000000010000000000000000000000000000000101100000000000100010000000000000000000001000001000000010000000100000000000000110000001111000000000000111100010000100100000000000000010000000000001000000000000000000001100000000000000110001000010001001000100000000000100100000001010000000000000000000000000000010000000000000000000000000000000001000000000000000000000000000000000010000000000000000000000000000001000000001000000000000000110000000010001000000000100000010000000110001000010000000000000000000000000000000000000000000001000000001000000000000000000000000010010010100000000000010001000000000000000100001000000010000000000000000000000000010000000000001000010000000000001001010001000000100000100010100000100001110101100000000000000000000100000000000000000000000010000000011000000000000000000000000000000000100000000000000101000000010000000000000000000000000000100100000000000000000000000100001000000000000001000000000000010000000000100000000000000000000000000000000001010010000000001001010000010110000000000000000000000000010000000000000000000000000000000000000001000000000000000000000000000011000000000000000000000001100001000000110000000000000001010010000110000000000001000000000000000010000100000100001000000000001100000100000000010000000000001000000000000010010000000000000000000000000001000000000000001110000000010100000000000100001100000100011010100101000000000000001000000000001000000000000001000000000000100001000001000000000000100100000000000010000101001001000000000100000000000000010000000000000001110010000010010100010010110000000000000111001000010\n"
     ]
    }
   ],
   "source": [
    "def save(mx):\n",
    "    return \"\".join(\"0\" if v == 0 else \"1\" for v in mx.flatten())\n",
    "    \n",
    "Atext = save(A)\n",
    "print(Atext)"
   ]
  },
  {
   "cell_type": "markdown",
   "metadata": {},
   "source": [
    "# ... OR You may start the lab from this place\n",
    "Use the code below in your solution to load the adjacency matrix."
   ]
  },
  {
   "cell_type": "code",
   "execution_count": 5,
   "metadata": {},
   "outputs": [
    {
     "data": {
      "image/png": "[encoded data removed]",
      "text/plain": [
       "<Figure size 432x288 with 1 Axes>"
      ]
     },
     "metadata": {
      "needs_background": "light"
     },
     "output_type": "display_data"
    }
   ],
   "source": [
    "pages = [ \"Bag-of-words model\", \"Bayes' theorem\", \"Cluster analysis\", \"Content-based image retrieval\", \"Database\", \"Deep learning\", \"Desktop search\", \"Dimensionality reduction\", \"Discounted Cumulative Gain\", \"Eigenvector\", \"Full-text search\", \"Hypertext\", \"Image retrieval\", \"Information retrieval\", \"Information system\", \"K-nearest neighbors algorithm\", \"Language model\", \"Latent Dirichlet allocation\", \"Latent semantic analysis\", \"Low-rank approximation\", \"Multimedia information retrieval\", \"Netflix Prize\", \"Netflix\", \"Ranking (information retrieval)\", \"Recommender systems\", \"Relevance (information retrieval)\", \"Rocchio algorithm\", \"Search algorithm\", \"Search engines\", \"Semantic search\", \"Semantic web\", \"Sentiment analysis\", \"Similarity search\", \"Site search\", \"Text mining\", \"Text Retrieval Conference\", \"Tf–idf\", \"Vector space model\", \"Web crawler\", \"World Wide Web\"]\n",
    "Atext = \"0000000000000000011000000000000100100100000000000000010000000000000000000000000000000101100000000000100010000000000000000000001000001000000010000000100000000000000110000001111000000000000111100010000100100000000000000010000000000001000000000000000000001100000000000000110001000010001001000100000000000100100000001010000000000000000000000000000010000000000000000000000000000000001000000000000000000000000000000000010000000000000000000000000000001000000001000000000000000110000000010001000000000100000010000000110001000010000000000000000000000000000000000000000000001000000001000000000000000000000000010010010100000000000010001000000000000000100001000000010000000000000000000000000010000000000001000010000000000001001010001000000100000100010100000100001110101100000000000000000000100000000000000000000000010000000011000000000000000000000000000000000100000000000000101000000010000000000000000000000000000100100000000000000000000000100001000000000000001000000000000010000000000100000000000000000000000000000000001010010000000001001010000010110000000000000000000000000010000000000000000000000000000000000000001000000000000000000000000000011000000000000000000000001100001000000110000000000000001010010000110000000000001000000000000000010000100000100001000000000001100000100000000010000000000001000000000000010010000000000000000000000000001000000000000001110000000010100000000000100001100000100011010100101000000000000001000000000001000000000000001000000000000100001000001000000000000100100000000000010000101001001000000000100000000000000010000000000000001110010000010010100010010110000000000000111001000010\"\n",
    "\n",
    "def load(text, w=40):\n",
    "    return np.array([float(a) for a in text]).reshape((w, -1))\n",
    "\n",
    "A = load(Atext)\n",
    "\n",
    "plt.imshow(A)\n",
    "plt.show()"
   ]
  },
  {
   "cell_type": "markdown",
   "metadata": {},
   "source": [
    "## Prepare a stochastic matrix M based on adjacency matrix A\n",
    "\n",
    "Write the code which norms matrix A column-wise. Add $\\frac{1}{N}$ factor where outdegree is 0.\n",
    "\n",
    "You can refer to wikipedia's [Google Matrix](https://en.wikipedia.org/wiki/Google_matrix#Adjacency_matrix_A_and_Markov_matrix_S) article. In construction algorthm this matrix is referred as `Markov matrix S`."
   ]
  },
  {
   "cell_type": "code",
   "execution_count": 6,
   "metadata": {},
   "outputs": [],
   "source": [
    "M = A.copy()\n",
    "\n",
    "# your code is here. Resulting matrix is shown below."
   ]
  },
  {
   "cell_type": "code",
   "execution_count": 7,
   "metadata": {},
   "outputs": [
    {
     "data": {
      "image/png": "[encoded data removed]",
      "text/plain": [
       "<Figure size 432x288 with 1 Axes>"
      ]
     },
     "metadata": {
      "needs_background": "light"
     },
     "output_type": "display_data"
    }
   ],
   "source": [
    "plt.imshow(M)\n",
    "plt.show()"
   ]
  },
  {
   "cell_type": "markdown",
   "metadata": {},
   "source": [
    "## Prepare the Google matrix\n",
    "\n",
    "Compute the Google matrix as described in construction block of [Google Matrix](https://en.wikipedia.org/wiki/Google_matrix#Construction_of_Google_matrix_G) article. \n",
    "\n",
    "`S` there is our matrix $\\mathcal{M}$.\n",
    "\n",
    "$\\alpha$ is a damping factor, which is accepted to be exactly `0.85`."
   ]
  },
  {
   "cell_type": "code",
   "execution_count": 8,
   "metadata": {},
   "outputs": [],
   "source": [
    "def to_google(M, alpha=0.85):\n",
    "    # your code here\n",
    "    pass"
   ]
  },
  {
   "cell_type": "code",
   "execution_count": 9,
   "metadata": {},
   "outputs": [],
   "source": [
    "G = to_google(M)"
   ]
  },
  {
   "cell_type": "code",
   "execution_count": 10,
   "metadata": {},
   "outputs": [
    {
     "data": {
      "image/png": "[encoded data removed]",
      "text/plain": [
       "<Figure size 432x288 with 1 Axes>"
      ]
     },
     "metadata": {
      "needs_background": "light"
     },
     "output_type": "display_data"
    }
   ],
   "source": [
    "plt.imshow(G)\n",
    "plt.show()"
   ]
  },
  {
   "cell_type": "markdown",
   "metadata": {},
   "source": [
    "## Solve naively\n",
    "\n",
    "Everything is ready for solution! Obvious way -- is to use algeraic solution of the equation.\n",
    "\n",
    "$\\mathbf{R} = d \\mathcal{M}\\mathbf{R} + \\frac{1-d}{N} \\mathbb{1}$\n",
    "\n",
    "Remember the hack from the lecture, that:\n",
    "\n",
    "$\\mathbb{E}\\times \\mathbf{R}=\\mathbb{1}$"
   ]
  },
  {
   "cell_type": "code",
   "execution_count": null,
   "metadata": {},
   "outputs": [],
   "source": [
    "# your code here\n",
    "R = ...\n",
    "print(np.argsort(R.reshape(-1)))"
   ]
  },
  {
   "cell_type": "markdown",
   "metadata": {},
   "source": [
    "## Solve with power method\n",
    "\n",
    "You can also use [Power method](https://en.wikipedia.org/wiki/Power_iteration) to obtain dominating eigenvector.\n",
    "\n",
    "$R = G^{N}v_{random}$"
   ]
  },
  {
   "cell_type": "code",
   "execution_count": null,
   "metadata": {},
   "outputs": [],
   "source": [
    "# your code here\n",
    "R = ...\n",
    "\n",
    "assert np.allclose(v, R)\n",
    "print(np.argsort(v.reshape(-1)))"
   ]
  },
  {
   "cell_type": "markdown",
   "metadata": {},
   "source": [
    "## Built-in check\n",
    "\n",
    "This code below allows you to check your solution, but we do not accept it as a solution."
   ]
  },
  {
   "cell_type": "code",
   "execution_count": null,
   "metadata": {},
   "outputs": [],
   "source": [
    "evals, evecs = np.linalg.eig(G)\n",
    "print(np.argsort(evecs[:, 0]))"
   ]
  },
  {
   "cell_type": "markdown",
   "metadata": {},
   "source": [
    "# Ranking\n",
    "\n",
    "Print the ranking. First should come the documents with *the highest* PageRank."
   ]
  },
  {
   "cell_type": "code",
   "execution_count": null,
   "metadata": {},
   "outputs": [],
   "source": [
    "for k in np.argsort(-v.flatten()):\n",
    "    print(k, \"\\t\", pages[k])"
   ]
  }
 ],
 "metadata": {
  "kernelspec": {
   "display_name": "Python 3 (ipykernel)",
   "language": "python",
   "name": "python3"
  },
  "language_info": {
   "codemirror_mode": {
    "name": "ipython",
    "version": 3
   },
   "file_extension": ".py",
   "mimetype": "text/x-python",
   "name": "python",
   "nbconvert_exporter": "python",
   "pygments_lexer": "ipython3",
   "version": "3.9.7"
  }
 },
 "nbformat": 4,
 "nbformat_minor": 4
}
