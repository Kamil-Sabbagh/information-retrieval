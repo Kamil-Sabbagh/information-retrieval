{
 "cells": [
  {
   "cell_type": "markdown",
   "id": "f70e56cb-00be-49e1-869a-deac83bac346",
   "metadata": {},
   "source": [
    "# Essential skill for the Internet crawling\n",
    "\n",
    "## Regular expressions\n",
    "\n",
    "Regular expressions (aka regex, regexp) are used to search for patterns. Machine-readable languages often have regualar structure (not always), or at least are non-ambiguous.\n",
    "\n",
    "Obvious way is, of course, to let machine parse the document and then process the result (as in the previous lab). But this often result in additinal depenencies and significant memory and time overhead (which is ok for a single document, but won't work for millions).\n",
    "\n",
    "### Simple examples"
   ]
  },
  {
   "cell_type": "code",
   "execution_count": 3,
   "id": "1be93130-a7a5-4f2d-9172-1bccf1d87123",
   "metadata": {},
   "outputs": [
    {
     "name": "stdout",
     "output_type": "stream",
     "text": [
      "\\w+: ['we', 'have', 'only', '5', 'do11ars', 'This', 'amount', 'of', 'is', 'small', 'How', 'should', 'we', 'sur', 'vive']\n",
      "\n",
      "[\\w\\-]+: ['we', 'have', 'only', '5', 'do11ars', 'This', 'amount', 'of', 'is', 'small', 'How', 'should', 'we', 'sur-vive']\n",
      "\n",
      "[0-9a-zA-Z\\-]+: ['we', 'have', 'only', '5', 'do11ars', 'This', 'amount', 'of', 'is', 'small', 'How', 'should', 'we', 'sur-vive']\n",
      "\n",
      ".+: ['we have only 5 do11ars. This amount of $ is small. How should we sur-vive?']\n",
      "\n",
      "\\S+: ['we', 'have', 'only', '5', 'do11ars.', 'This', 'amount', 'of', '$', 'is', 'small.', 'How', 'should', 'we', 'sur-vive?']\n",
      "\n",
      "\\W+[a-z]+\\-[a-z]+.$: [' sur-vive?']\n"
     ]
    }
   ],
   "source": [
    "import re\n",
    "string = \"we have only 5 do11ars. This amount of $ is small. How should we sur-vive?\"\n",
    "\n",
    "# all alphanumerics\n",
    "pattern = \"\\w+\"\n",
    "print(pattern, end=\": \")\n",
    "print(re.findall(pattern, string))\n",
    "print()\n",
    "\n",
    "# all alphanumerics but also with hyphen\n",
    "pattern = \"[\\w\\-]+\"\n",
    "print(pattern, end=\": \")\n",
    "print(re.findall(pattern, string))\n",
    "print()\n",
    "\n",
    "# the same but using explicit character enumeration\n",
    "pattern = \"[0-9a-zA-Z\\-]+\" # explicit\n",
    "print(pattern, end=\": \")\n",
    "print(re.findall(pattern, string))\n",
    "print()\n",
    "\n",
    "pattern = \".+\"\n",
    "print(pattern, end=\": \")\n",
    "print(re.findall(pattern, string))\n",
    "print()\n",
    "\n",
    "# non-spaces, not the same as \\w !\n",
    "pattern = \"\\S+\"\n",
    "print(pattern, end=\": \")\n",
    "print(re.findall(pattern, string))\n",
    "print()\n",
    "\n",
    "\n",
    "# discuss this pattern\n",
    "pattern = \"\\W+[a-z]+\\-[a-z]+.$\"\n",
    "print(pattern, end=\": \")\n",
    "print(re.findall(pattern, string))"
   ]
  },
  {
   "cell_type": "markdown",
   "id": "cbd60467-c31a-4977-af18-a77862cf60aa",
   "metadata": {},
   "source": [
    "### Find URLs/URIs vs parse the doc\n",
    "\n",
    "Instead of building DOM model and extracting `href` and `src` attributes, you may rely on the structure of the url itself. Extact all URLs from [the page](https://math.stackexchange.com/questions/411486/understanding-the-singular-value-decomposition-svd) with regexp. You major tool is [re.findall(...)](https://docs.python.org/3/library/re.html#). You may also be interested in compiled regular rexpression (if you reuse one)."
   ]
  },
  {
   "cell_type": "code",
   "execution_count": 4,
   "id": "a6312c41-143c-4d38-af65-0ad9652caab7",
   "metadata": {},
   "outputs": [
    {
     "name": "stdout",
     "output_type": "stream",
     "text": [
      "\n",
      "(?:([A-Za-z]+):)?(\\/{0,3})([0-9.\\-A-Za-z]+)(?::(\\d+))?(?:\\/([^?#]*))?(?:\\?([^#]*))?(?:#(.*))?\n",
      "[('', '', 'DOCTYPE', '', '', '', ''), ('', '', 'html', '', '', '', ''), ('', '', 'html', '', '', '', ''), ('', '', 'itemscope', '', '', '', ''), ('', '', 'itemtype', '', '', '', ''), ('https', '//', 'schema.org', '', 'QAPage\" class=\"html__responsive \" lang=\"en\">\\n\\n    <head>\\n\\n        <title>linear algebra - Understanding the singular value decomposition (SVD) - Mathematics Stack Exchange</title>\\n        <link rel=\"shortcut icon\" href=\"https://cdn.sstatic.net/Sites/math/Img/favicon.ico', 'v=92addaa54d18\">\\n        <link rel=\"apple-touch-icon\" href=\"https://cdn.sstatic.net/Sites/math/Img/apple-touch-icon.png?v=0ae50baa40ed\">\\n        <link rel=\"image_src\" href=\"https://cdn.sstatic.net/Sites/math/Img/apple-touch-icon.png?v=0ae50baa40ed\"> \\n        <link rel=\"search\" type=\"application/opensearchdescription+xml\" title=\"Mathematics Stack Exchange\" href=\"/opensearch.xml\">\\n        <link rel=\"canonical\" href=\"https://math.stackexchange.com/questions/411486/understanding-the-singular-value-decomposition-svd\" />\\n    <meta name=\"viewport\" content=\"width=device-width, height=device-height, initial-scale=1.0, minimum-scale=1.0\">\\n        <meta name=\"bingbot\" content=\"noarchive\">         \\n        <meta property=\"og:type\" content= \"website\" />\\n        <meta property=\"og:url\" content=\"https://math.stackexchange.com/questions/411486/understanding-the-singular-value-decomposition-svd\"/>\\n        <meta property=\"og:site_name\" content=\"Mathematics Stack Exchange\" />\\n        <meta property=\"og:image\" itemprop=\"image primaryImageOfPage\" content=\"https://cdn.sstatic.net/Sites/math/Img/apple-touch-icon@2.png?v=4ec1df2e49b1\" />\\n        <meta name=\"twitter:card\" content=\"summary\"/>\\n        <meta name=\"twitter:domain\" content=\"math.stackexchange.com\"/>\\n        <meta name=\"twitter:title\" property=\"og:title\" itemprop=\"name\" content=\"Understanding the singular value decomposition (SVD)\" />\\n        <meta name=\"twitter:description\" property=\"og:description\" itemprop=\"description\" content=\"Please, would someone be so kind and explain what exactly happens when Singular Value Decomposition is applied on a matrix? What are singular values, left singular, and right singular vectors? I know \" />\\n    <script id=\"webpack-public-path\" type=\"text/uri-list\">https://cdn.sstatic.net/</script>\\n    <script src=\"https://ajax.googleapis.com/ajax/libs/jquery/3.7.1/jquery.min.js\"></script><script src=\"https://code.jquery.com/jquery-migrate-3.4.1.min.js\"></script>\\n    <script defer src=\"https://cdn.sstatic.net/Js/third-party/npm/@stackoverflow/stacks/dist/js/stacks.min.js?v=d5f780ae3281\"></script>\\n    <script src=\"https://cdn.sstatic.net/Js/stub.en.js?v=01af928a07d1\"></script>\\n\\n    <link rel=\"stylesheet\" type=\"text/css\" href=\"https://cdn.sstatic.net/Shared/stacks.css?v=619122b796ae\">\\n    <link rel=\"stylesheet\" type=\"text/css\" href=\"https://cdn.sstatic.net/Sites/math/primary.css?v=992ca5aac36e\">\\n\\n\\n    \\n            <link rel=\"alternate\" type=\"application/atom+xml\" title=\"Feed for question &', 'x27;Understanding the singular value decomposition (SVD)&#x27;\" href=\"/feeds/question/411486\">'), ('', '', 'script', '', '', '', ''), ('', '', 'StackExchange.ready', '', '', '', ''), ('', '', 'function', '', '', '', ''), ('', '', 'StackExchange.using', '', '', '', '')]\n",
      "\n",
      "(www|http:|https:)+[^\\s]+[\\w]\n",
      "['https:', 'https:', 'https:', 'https:', 'https:', 'https:', 'https:', 'https:', 'https:', 'https:']\n",
      "\n",
      "https?:\\/\\/(www\\.)?[-a-zA-Z0-9@:%._\\+~#=]{1,256}\\.[a-zA-Z0-9()]{1,6([-a-zA-Z0-9()@:%_\\+.~#?&//=]*)\n",
      "[]\n",
      "\n",
      "[-a-zA-Z0-9@:%._\\+~#=]{1,256}\\.[a-zA-Z0-9()]{1,6([-a-zA-Z0-9()@:%_\\+.~#?&//=]*)?\n",
      "[]\n",
      "\n",
      "(https?:\\/\\/(?:www\\.|(?!www))[a-zA-Z0-9][a-zA-Z0-9-]+[a-zA-Z0-9]\\.[^\\s]{2,}|www\\.[a-zA-Z0-9][a-zA-Z0-9-]+[a-zA-Z0-9]\\.[^\\s]{2,}|https?:\\/\\/(?:www\\.|(?!www))[a-zA-Z0-9]+\\.[^\\s]{2,}|www\\.[a-zA-Z0-9]+\\.[^\\s]{2,})\n",
      "['https://schema.org/QAPage\"', 'https://cdn.sstatic.net/Sites/math/Img/favicon.ico?v=92addaa54d18\">', 'https://cdn.sstatic.net/Sites/math/Img/apple-touch-icon.png?v=0ae50baa40ed\">', 'https://cdn.sstatic.net/Sites/math/Img/apple-touch-icon.png?v=0ae50baa40ed\">', 'https://math.stackexchange.com/questions/411486/understanding-the-singular-value-decomposition-svd\"', 'https://math.stackexchange.com/questions/411486/understanding-the-singular-value-decomposition-svd\"/>', 'https://cdn.sstatic.net/Sites/math/Img/apple-touch-icon@2.png?v=4ec1df2e49b1\"', 'https://cdn.sstatic.net/</script>', 'https://ajax.googleapis.com/ajax/libs/jquery/3.7.1/jquery.min.js\"></script><script', 'https://code.jquery.com/jquery-migrate-3.4.1.min.js\"></script>']\n",
      "\n",
      "(?!mailto:)(?:(?:http|https|ftp)://)(?:\\S+(?::\\S*)?@)?(?:(?:(?:[1-9]\\d?|1\\d\\d|2[01]\\d|22[0-3])(?:\\.(?:1?\\d{1,2}|2[0-4]\\d|25[0-5])){2}(?:\\.(?:[0-9]\\d?|1\\d\\d|2[0-4]\\d|25[0-4]))|(?:(?:[a-z\\u00a1-\\uffff0-9]+-?)*[a-z\\u00a1-\\uffff0-9]+)(?:\\.(?:[a-z\\u00a1-\\uffff0-9]+-?)*[a-z\\u00a1-\\uffff0-9]+)*(?:\\.(?:[a-z\\u00a1-\\uffff]{2,})))|localhost)(?::\\d{2,5})?(?:(/|\\?|#)[^\\s]*)?\n",
      "['/', '/', '/', '/', '/', '/', '?', '/', '/', '/']\n",
      "\n",
      "https?:\\/\\/(?:www\\.)?[-a-zA-Z0-9@:%._\\+~#=]{1,256}\\.[a-zA-Z0-9()]{1,6(?:[-a-zA-Z0-9()@:%_\\+.~#?&\\/=]*)\n",
      "[]\n"
     ]
    }
   ],
   "source": [
    "import re\n",
    "import requests\n",
    "\n",
    "url = \"https://math.stackexchange.com/questions/\"\\\n",
    "        \"411486/understanding-the-singular-value-decomposition-svd\"\n",
    "\n",
    "text = requests.get(url).text\n",
    "\n",
    "# my inspiration - \n",
    "# I took some example URL regexp from the internet, \n",
    "# specifically from here:\n",
    "# https://stackoverflow.com/questions/3809401/what-is-a-good-regular-expression-to-match-a-url\n",
    "expressions = [\n",
    "    \"(?:([A-Za-z]+):)?(\\/{0,3})([0-9.\\-A-Za-z]+)(?::(\\d+))?(?:\\/([^?#]*))?(?:\\?([^#]*))?(?:#(.*))?\",\n",
    "    \"(www|http:|https:)+[^\\s]+[\\w]\",\n",
    "    \"https?:\\/\\/(www\\.)?[-a-zA-Z0-9@:%._\\+~#=]{1,256}\\.[a-zA-Z0-9()]{1,6}\\b([-a-zA-Z0-9()@:%_\\+.~#?&//=]*)\",\n",
    "    \"[-a-zA-Z0-9@:%._\\+~#=]{1,256}\\.[a-zA-Z0-9()]{1,6}\\b([-a-zA-Z0-9()@:%_\\+.~#?&//=]*)?\",\n",
    "    \"(https?:\\/\\/(?:www\\.|(?!www))[a-zA-Z0-9][a-zA-Z0-9-]+[a-zA-Z0-9]\\.[^\\s]{2,}|www\\.[a-zA-Z0-9][a-zA-Z0-9-]+[a-zA-Z0-9]\\.[^\\s]{2,}|https?:\\/\\/(?:www\\.|(?!www))[a-zA-Z0-9]+\\.[^\\s]{2,}|www\\.[a-zA-Z0-9]+\\.[^\\s]{2,})\",\n",
    "    \"(?!mailto:)(?:(?:http|https|ftp)://)(?:\\\\S+(?::\\\\S*)?@)?(?:(?:(?:[1-9]\\\\d?|1\\\\d\\\\d|2[01]\\\\d|22[0-3])(?:\\\\.(?:1?\\\\d{1,2}|2[0-4]\\\\d|25[0-5])){2}(?:\\\\.(?:[0-9]\\\\d?|1\\\\d\\\\d|2[0-4]\\\\d|25[0-4]))|(?:(?:[a-z\\\\u00a1-\\\\uffff0-9]+-?)*[a-z\\\\u00a1-\\\\uffff0-9]+)(?:\\\\.(?:[a-z\\\\u00a1-\\\\uffff0-9]+-?)*[a-z\\\\u00a1-\\\\uffff0-9]+)*(?:\\\\.(?:[a-z\\\\u00a1-\\\\uffff]{2,})))|localhost)(?::\\\\d{2,5})?(?:(/|\\\\?|#)[^\\\\s]*)?\",\n",
    "    \"https?:\\/\\/(?:www\\.)?[-a-zA-Z0-9@:%._\\+~#=]{1,256}\\.[a-zA-Z0-9()]{1,6}\\b(?:[-a-zA-Z0-9()@:%_\\+.~#?&\\/=]*)\",\n",
    "]\n",
    "\n",
    "for expression in expressions:\n",
    "    print()\n",
    "    pattern = re.compile(expression)\n",
    "    urls = pattern.findall(text)\n",
    "    print(expression)\n",
    "    print(urls[:10])"
   ]
  },
  {
   "cell_type": "markdown",
   "id": "63197434-4483-4d3c-ae0f-0dfb91f396b7",
   "metadata": {},
   "source": [
    "Was this success? \n",
    "\n",
    "Compose your own minimalistic:"
   ]
  },
  {
   "cell_type": "code",
   "execution_count": 1,
   "id": "d2055e8c-20d1-4cfe-9229-0f22a24183fb",
   "metadata": {},
   "outputs": [
    {
     "name": "stdout",
     "output_type": "stream",
     "text": [
      "['https://schema.org/QAPage', 'https://cdn.sstatic.net/Sites/math/Img/favicon.ico?v=92addaa54d18', 'https://cdn.sstatic.net/Sites/math/Img/apple-touch-icon.png?v=0ae50baa40ed', 'https://cdn.sstatic.net/Sites/math/Img/apple-touch-icon.png?v=0ae50baa40ed', 'https://math.stackexchange.com/questions/411486/understanding-the-singular-value-decomposition-svd', 'https://math.stackexchange.com/questions/411486/understanding-the-singular-value-decomposition-svd', 'https://cdn.sstatic.net/Sites/math/Img/apple-touch-icon', 'https://cdn.sstatic.net/', 'https://ajax.googleapis.com/ajax/libs/jquery/3.7.1/jquery.min.js', 'https://code.jquery.com/jquery-migrate-3.4.1.min.js', 'https://cdn.sstatic.net/Js/third-party/npm/', 'https://cdn.sstatic.net/Js/stub.en.js?v=01af928a07d1', 'https://cdn.sstatic.net/Shared/stacks.css?v=619122b796ae', 'https://cdn.sstatic.net/Sites/math/primary.css?v=992ca5aac36e', 'https://cdn.sstatic.net/Shared/Channels/channels.css?v=5981bb1a5bd7', 'https://cdn.sstatic.net/Js/third-party/citation-helper.js?v=4664e10d5b5c', 'https://cdnjs.cloudflare.com/ajax/libs/mathjax/2.7.5/MathJax.js?config=TeX-AMS_HTML-full', 'https://stackauth.com', 'https://math.meta.stackexchange.com', 'https://ajax.googleapis.com/ajax/libs/jqueryui/1.12.0/themes/smoothness/jquery-ui.css']\n"
     ]
    }
   ],
   "source": [
    "import re\n",
    "import requests\n",
    "\n",
    "url = \"https://math.stackexchange.com/questions/\"\\\n",
    "        \"411486/understanding-the-singular-value-decomposition-svd\"\n",
    "\n",
    "text = requests.get(url).text\n",
    "\n",
    "protocol = \"https?://\"\n",
    "domain = \"[\\w\\-\\.]+\"\n",
    "path = \"[/\\w\\-\\.]*\"\n",
    "args =  \"(?:\\?[\\w\\=&-_;\\[\\]]+)?\"\n",
    "hashtail = \"(?:#[\\w$%-_;]+)?\"\n",
    "\n",
    "expression = protocol + domain + path + args + hashtail\n",
    "pattern = re.compile(expression)\n",
    "regexp_urls = pattern.findall(text)\n",
    "print(regexp_urls[:20])"
   ]
  },
  {
   "cell_type": "markdown",
   "id": "d2174daf-3ea2-4622-89d2-751aed1e29b9",
   "metadata": {},
   "source": [
    "# Streams and files\n",
    "\n",
    "When you deal with the big files you should take care about the RAM. Today 1GB won't suprise anyone on the desktop, but server machines, which implement crawlers, may be optimized for the resource.\n",
    "\n",
    "Using streams instead of RAM-cached files is a good strategy.\n",
    "\n",
    "- Look for solution here: https://stackoverflow.com/a/16696317\n",
    "- Look for the sample big file here: http://xcal1.vodafone.co.uk/\n",
    "- Read about python memory measurement here: https://pythonspeed.com/articles/measuring-memory-python/"
   ]
  },
  {
   "cell_type": "code",
   "execution_count": 4,
   "id": "c819e5ad-2c3e-43b1-a45c-2c1db556e4d9",
   "metadata": {},
   "outputs": [],
   "source": [
    "import psutil, gc \n",
    "\n",
    "def get_mem():\n",
    "    return psutil.Process().memory_info().rss"
   ]
  },
  {
   "cell_type": "code",
   "execution_count": 5,
   "id": "3d45cfdf-661e-47bb-a2c1-336b7d091a53",
   "metadata": {},
   "outputs": [],
   "source": [
    "large_file_url = \"http://212.183.159.230/100MB.zip\""
   ]
  },
  {
   "cell_type": "markdown",
   "id": "5c447d2f-383b-4d5e-ad83-67feab474dec",
   "metadata": {},
   "source": [
    "First, download the file as you would do it simple way:"
   ]
  },
  {
   "cell_type": "code",
   "execution_count": 6,
   "id": "77d31dd2-b334-4d77-820e-ed78b81ad5c4",
   "metadata": {},
   "outputs": [
    {
     "name": "stdout",
     "output_type": "stream",
     "text": [
      "Resident set size: 77885440\n",
      "Resident set size: 226037760\n",
      "Resident set size: 226041856\n",
      "Resident set size: 226041856\n"
     ]
    }
   ],
   "source": [
    "gc.collect()\n",
    "print(\"Resident set size:\", get_mem())\n",
    "data = requests.get(large_file_url).content\n",
    "print(\"Resident set size:\", get_mem())\n",
    "\n",
    "with open('100-RAM', 'wb') as f:\n",
    "    f.write(data)\n",
    "\n",
    "print(\"Resident set size:\", get_mem())\n",
    "data = None\n",
    "gc.collect()\n",
    "print(\"Resident set size:\", get_mem())"
   ]
  },
  {
   "cell_type": "markdown",
   "id": "05ad622c-6821-467d-8f9d-6269fed14097",
   "metadata": {},
   "source": [
    "And then use the streaming mode of the `requests` library."
   ]
  },
  {
   "cell_type": "code",
   "execution_count": 2,
   "id": "0f20b4eb-a60c-4be1-910e-c029bdf4cb2c",
   "metadata": {},
   "outputs": [
    {
     "ename": "NameError",
     "evalue": "name 'gc' is not defined",
     "output_type": "error",
     "traceback": [
      "\u001b[0;31m---------------------------------------------------------------------------\u001b[0m",
      "\u001b[0;31mNameError\u001b[0m                                 Traceback (most recent call last)",
      "Cell \u001b[0;32mIn[2], line 7\u001b[0m\n\u001b[1;32m      4\u001b[0m \u001b[38;5;28;01mdef\u001b[39;00m \u001b[38;5;21mdownload_file\u001b[39m(url, destination):\n\u001b[1;32m      5\u001b[0m     \u001b[38;5;28;01mpass\u001b[39;00m\n\u001b[0;32m----> 7\u001b[0m \u001b[43mgc\u001b[49m\u001b[38;5;241m.\u001b[39mcollect()\n\u001b[1;32m      8\u001b[0m \u001b[38;5;28mprint\u001b[39m(\u001b[38;5;124m\"\u001b[39m\u001b[38;5;124mResident set size:\u001b[39m\u001b[38;5;124m\"\u001b[39m, get_mem())\n\u001b[1;32m      9\u001b[0m download_file(large_file_url, \u001b[38;5;124m\"\u001b[39m\u001b[38;5;124m100-stream\u001b[39m\u001b[38;5;124m\"\u001b[39m)\n",
      "\u001b[0;31mNameError\u001b[0m: name 'gc' is not defined"
     ]
    }
   ],
   "source": [
    "import requests\n",
    "import shutil\n",
    "\n",
    "def download_file(url, destination):\n",
    "    pass\n",
    "\n",
    "gc.collect()\n",
    "print(\"Resident set size:\", get_mem())\n",
    "download_file(large_file_url, \"100-stream\")\n",
    "print(\"Resident set size:\", get_mem())"
   ]
  },
  {
   "cell_type": "markdown",
   "id": "b02814d2-da81-40c6-baa2-a1453626df3a",
   "metadata": {},
   "source": [
    "# BeautifulSoup\n",
    "\n",
    "Plain text HTML is a mixture of content, markup, and code. Extracting structure, or URLs, or plain text might be tricky with regular expressions. \n",
    "\n",
    "Building a DOM model is slow, but may save a lot of code and keep you from mistakes.\n",
    "\n",
    "## Extract all sentences\n",
    "For indexing and semantic analysis we use different granularity. Often sentence is a good choice. "
   ]
  },
  {
   "cell_type": "code",
   "execution_count": 6,
   "id": "186a793c-39ea-463d-8106-b719e4de3e33",
   "metadata": {},
   "outputs": [
    {
     "ename": "LookupError",
     "evalue": "\n**********************************************************************\n  Resource \u001b[93mpunkt_tab\u001b[0m not found.\n  Please use the NLTK Downloader to obtain the resource:\n\n  \u001b[31m>>> import nltk\n  >>> nltk.download('punkt_tab')\n  \u001b[0m\n  For more information see: https://www.nltk.org/data.html\n\n  Attempted to load \u001b[93mtokenizers/punkt_tab/english/\u001b[0m\n\n  Searched in:\n    - '/home/kamil/nltk_data'\n    - '/usr/nltk_data'\n    - '/usr/share/nltk_data'\n    - '/usr/lib/nltk_data'\n    - '/usr/share/nltk_data'\n    - '/usr/local/share/nltk_data'\n    - '/usr/lib/nltk_data'\n    - '/usr/local/lib/nltk_data'\n**********************************************************************\n",
     "output_type": "error",
     "traceback": [
      "\u001b[0;31m---------------------------------------------------------------------------\u001b[0m",
      "\u001b[0;31mLookupError\u001b[0m                               Traceback (most recent call last)",
      "Cell \u001b[0;32mIn[6], line 13\u001b[0m\n\u001b[1;32m     11\u001b[0m sents \u001b[38;5;241m=\u001b[39m []\n\u001b[1;32m     12\u001b[0m \u001b[38;5;28;01mfor\u001b[39;00m p \u001b[38;5;129;01min\u001b[39;00m paragraphs:\n\u001b[0;32m---> 13\u001b[0m     sents \u001b[38;5;241m+\u001b[39m\u001b[38;5;241m=\u001b[39m \u001b[43mtokenize\u001b[49m\u001b[38;5;241;43m.\u001b[39;49m\u001b[43msent_tokenize\u001b[49m\u001b[43m(\u001b[49m\u001b[43mp\u001b[49m\u001b[43m)\u001b[49m\n\u001b[1;32m     15\u001b[0m \u001b[38;5;28mprint\u001b[39m(sents[\u001b[38;5;241m90\u001b[39m:\u001b[38;5;241m100\u001b[39m])\n",
      "File \u001b[0;32m~/.local/lib/python3.10/site-packages/nltk/tokenize/__init__.py:119\u001b[0m, in \u001b[0;36msent_tokenize\u001b[0;34m(text, language)\u001b[0m\n\u001b[1;32m    109\u001b[0m \u001b[38;5;28;01mdef\u001b[39;00m \u001b[38;5;21msent_tokenize\u001b[39m(text, language\u001b[38;5;241m=\u001b[39m\u001b[38;5;124m\"\u001b[39m\u001b[38;5;124menglish\u001b[39m\u001b[38;5;124m\"\u001b[39m):\n\u001b[1;32m    110\u001b[0m \u001b[38;5;250m    \u001b[39m\u001b[38;5;124;03m\"\"\"\u001b[39;00m\n\u001b[1;32m    111\u001b[0m \u001b[38;5;124;03m    Return a sentence-tokenized copy of *text*,\u001b[39;00m\n\u001b[1;32m    112\u001b[0m \u001b[38;5;124;03m    using NLTK's recommended sentence tokenizer\u001b[39;00m\n\u001b[0;32m   (...)\u001b[0m\n\u001b[1;32m    117\u001b[0m \u001b[38;5;124;03m    :param language: the model name in the Punkt corpus\u001b[39;00m\n\u001b[1;32m    118\u001b[0m \u001b[38;5;124;03m    \"\"\"\u001b[39;00m\n\u001b[0;32m--> 119\u001b[0m     tokenizer \u001b[38;5;241m=\u001b[39m \u001b[43m_get_punkt_tokenizer\u001b[49m\u001b[43m(\u001b[49m\u001b[43mlanguage\u001b[49m\u001b[43m)\u001b[49m\n\u001b[1;32m    120\u001b[0m     \u001b[38;5;28;01mreturn\u001b[39;00m tokenizer\u001b[38;5;241m.\u001b[39mtokenize(text)\n",
      "File \u001b[0;32m~/.local/lib/python3.10/site-packages/nltk/tokenize/__init__.py:105\u001b[0m, in \u001b[0;36m_get_punkt_tokenizer\u001b[0;34m(language)\u001b[0m\n\u001b[1;32m     96\u001b[0m \u001b[38;5;129m@functools\u001b[39m\u001b[38;5;241m.\u001b[39mlru_cache\n\u001b[1;32m     97\u001b[0m \u001b[38;5;28;01mdef\u001b[39;00m \u001b[38;5;21m_get_punkt_tokenizer\u001b[39m(language\u001b[38;5;241m=\u001b[39m\u001b[38;5;124m\"\u001b[39m\u001b[38;5;124menglish\u001b[39m\u001b[38;5;124m\"\u001b[39m):\n\u001b[1;32m     98\u001b[0m \u001b[38;5;250m    \u001b[39m\u001b[38;5;124;03m\"\"\"\u001b[39;00m\n\u001b[1;32m     99\u001b[0m \u001b[38;5;124;03m    A constructor for the PunktTokenizer that utilizes\u001b[39;00m\n\u001b[1;32m    100\u001b[0m \u001b[38;5;124;03m    a lru cache for performance.\u001b[39;00m\n\u001b[0;32m   (...)\u001b[0m\n\u001b[1;32m    103\u001b[0m \u001b[38;5;124;03m    :type language: str\u001b[39;00m\n\u001b[1;32m    104\u001b[0m \u001b[38;5;124;03m    \"\"\"\u001b[39;00m\n\u001b[0;32m--> 105\u001b[0m     \u001b[38;5;28;01mreturn\u001b[39;00m \u001b[43mPunktTokenizer\u001b[49m\u001b[43m(\u001b[49m\u001b[43mlanguage\u001b[49m\u001b[43m)\u001b[49m\n",
      "File \u001b[0;32m~/.local/lib/python3.10/site-packages/nltk/tokenize/punkt.py:1744\u001b[0m, in \u001b[0;36mPunktTokenizer.__init__\u001b[0;34m(self, lang)\u001b[0m\n\u001b[1;32m   1742\u001b[0m \u001b[38;5;28;01mdef\u001b[39;00m \u001b[38;5;21m__init__\u001b[39m(\u001b[38;5;28mself\u001b[39m, lang\u001b[38;5;241m=\u001b[39m\u001b[38;5;124m\"\u001b[39m\u001b[38;5;124menglish\u001b[39m\u001b[38;5;124m\"\u001b[39m):\n\u001b[1;32m   1743\u001b[0m     PunktSentenceTokenizer\u001b[38;5;241m.\u001b[39m\u001b[38;5;21m__init__\u001b[39m(\u001b[38;5;28mself\u001b[39m)\n\u001b[0;32m-> 1744\u001b[0m     \u001b[38;5;28;43mself\u001b[39;49m\u001b[38;5;241;43m.\u001b[39;49m\u001b[43mload_lang\u001b[49m\u001b[43m(\u001b[49m\u001b[43mlang\u001b[49m\u001b[43m)\u001b[49m\n",
      "File \u001b[0;32m~/.local/lib/python3.10/site-packages/nltk/tokenize/punkt.py:1749\u001b[0m, in \u001b[0;36mPunktTokenizer.load_lang\u001b[0;34m(self, lang)\u001b[0m\n\u001b[1;32m   1746\u001b[0m \u001b[38;5;28;01mdef\u001b[39;00m \u001b[38;5;21mload_lang\u001b[39m(\u001b[38;5;28mself\u001b[39m, lang\u001b[38;5;241m=\u001b[39m\u001b[38;5;124m\"\u001b[39m\u001b[38;5;124menglish\u001b[39m\u001b[38;5;124m\"\u001b[39m):\n\u001b[1;32m   1747\u001b[0m     \u001b[38;5;28;01mfrom\u001b[39;00m \u001b[38;5;21;01mnltk\u001b[39;00m\u001b[38;5;21;01m.\u001b[39;00m\u001b[38;5;21;01mdata\u001b[39;00m \u001b[38;5;28;01mimport\u001b[39;00m find\n\u001b[0;32m-> 1749\u001b[0m     lang_dir \u001b[38;5;241m=\u001b[39m \u001b[43mfind\u001b[49m\u001b[43m(\u001b[49m\u001b[38;5;124;43mf\u001b[39;49m\u001b[38;5;124;43m\"\u001b[39;49m\u001b[38;5;124;43mtokenizers/punkt_tab/\u001b[39;49m\u001b[38;5;132;43;01m{\u001b[39;49;00m\u001b[43mlang\u001b[49m\u001b[38;5;132;43;01m}\u001b[39;49;00m\u001b[38;5;124;43m/\u001b[39;49m\u001b[38;5;124;43m\"\u001b[39;49m\u001b[43m)\u001b[49m\n\u001b[1;32m   1750\u001b[0m     \u001b[38;5;28mself\u001b[39m\u001b[38;5;241m.\u001b[39m_params \u001b[38;5;241m=\u001b[39m load_punkt_params(lang_dir)\n\u001b[1;32m   1751\u001b[0m     \u001b[38;5;28mself\u001b[39m\u001b[38;5;241m.\u001b[39m_lang \u001b[38;5;241m=\u001b[39m lang\n",
      "File \u001b[0;32m~/.local/lib/python3.10/site-packages/nltk/data.py:579\u001b[0m, in \u001b[0;36mfind\u001b[0;34m(resource_name, paths)\u001b[0m\n\u001b[1;32m    577\u001b[0m sep \u001b[38;5;241m=\u001b[39m \u001b[38;5;124m\"\u001b[39m\u001b[38;5;124m*\u001b[39m\u001b[38;5;124m\"\u001b[39m \u001b[38;5;241m*\u001b[39m \u001b[38;5;241m70\u001b[39m\n\u001b[1;32m    578\u001b[0m resource_not_found \u001b[38;5;241m=\u001b[39m \u001b[38;5;124mf\u001b[39m\u001b[38;5;124m\"\u001b[39m\u001b[38;5;130;01m\\n\u001b[39;00m\u001b[38;5;132;01m{\u001b[39;00msep\u001b[38;5;132;01m}\u001b[39;00m\u001b[38;5;130;01m\\n\u001b[39;00m\u001b[38;5;132;01m{\u001b[39;00mmsg\u001b[38;5;132;01m}\u001b[39;00m\u001b[38;5;130;01m\\n\u001b[39;00m\u001b[38;5;132;01m{\u001b[39;00msep\u001b[38;5;132;01m}\u001b[39;00m\u001b[38;5;130;01m\\n\u001b[39;00m\u001b[38;5;124m\"\u001b[39m\n\u001b[0;32m--> 579\u001b[0m \u001b[38;5;28;01mraise\u001b[39;00m \u001b[38;5;167;01mLookupError\u001b[39;00m(resource_not_found)\n",
      "\u001b[0;31mLookupError\u001b[0m: \n**********************************************************************\n  Resource \u001b[93mpunkt_tab\u001b[0m not found.\n  Please use the NLTK Downloader to obtain the resource:\n\n  \u001b[31m>>> import nltk\n  >>> nltk.download('punkt_tab')\n  \u001b[0m\n  For more information see: https://www.nltk.org/data.html\n\n  Attempted to load \u001b[93mtokenizers/punkt_tab/english/\u001b[0m\n\n  Searched in:\n    - '/home/kamil/nltk_data'\n    - '/usr/nltk_data'\n    - '/usr/share/nltk_data'\n    - '/usr/lib/nltk_data'\n    - '/usr/share/nltk_data'\n    - '/usr/local/share/nltk_data'\n    - '/usr/lib/nltk_data'\n    - '/usr/local/lib/nltk_data'\n**********************************************************************\n"
     ]
    }
   ],
   "source": [
    "from bs4 import BeautifulSoup\n",
    "from bs4.element import Comment\n",
    "from nltk import tokenize\n",
    "\n",
    "doc_url = \"https://math.stackexchange.com/questions/411486/understanding-the-singular-value-decomposition-svd\"\n",
    "\n",
    "text = requests.get(doc_url).text\n",
    "dom = BeautifulSoup(text)\n",
    "paragraphs = [p.strip() for p in dom.text.split('\\n') if p.strip()]\n",
    "\n",
    "sents = []\n",
    "for p in paragraphs:\n",
    "    sents += tokenize.sent_tokenize(p)\n",
    "\n",
    "print(sents[90:100])"
   ]
  },
  {
   "cell_type": "markdown",
   "id": "0805f227",
   "metadata": {},
   "source": [
    "```\n",
    "['values) in a diagonal matrix representing variances.', 'SVD however is product of three matrices: outer product o, singular values, inner product of A.', \"But I still don't see the meaning of all this.\", '$\\\\endgroup$', '–\\xa0Celdor', 'Commented', 'Jun 5, 2013 at 2:55', '$\\\\begingroup$', 'A related problem.', '$\\\\endgroup$']\n",
    "```"
   ]
  },
  {
   "cell_type": "markdown",
   "id": "8ead20dc-0608-4dde-a34a-3663692c9c6c",
   "metadata": {},
   "source": [
    "# Extract URLs from nodes\n",
    "\n",
    "Be careful with relative links. How would you process them?"
   ]
  },
  {
   "cell_type": "code",
   "execution_count": 9,
   "id": "33586e48-d334-4641-9d37-a24894026b86",
   "metadata": {},
   "outputs": [
    {
     "data": {
      "text/plain": [
       "['https://mathematica.stackexchange.com/questions/275684/how-can-i-write-this-using-less-variables',\n",
       " 'https://space.stackexchange.com/questions/60883/life-support-system-weight-estimate',\n",
       " 'https://math.stackexchange.com/questions/704238/singular-value-decomposition-of-rank-1-matrix',\n",
       " 'https://stackoverflow.co/company/press',\n",
       " 'https://math.stackexchange.com/questions/tagged/matrix-decomposition',\n",
       " 'https://try.stackoverflow.co/why-teams/?utm_source=so-owned&utm_medium=side-bar&utm_campaign=campaign-38&utm_content=cta',\n",
       " 'https://linkedin.com/company/stack-overflow',\n",
       " 'https://www.instagram.com/thestackoverflow',\n",
       " 'https://math.stackexchange.com/questions/816884/relationship-between-the-singular-value-decomposition-svd-and-the-principal-co',\n",
       " 'https://math.stackexchange.com/tags']"
      ]
     },
     "execution_count": 9,
     "metadata": {},
     "output_type": "execute_result"
    }
   ],
   "source": [
    "import urllib.parse\n",
    "\n",
    "all_hrefs = dom.find_all('a', href=True)\n",
    "all_urls = set()\n",
    "\n",
    "for a in all_hrefs:\n",
    "    url = ...\n",
    "    all_urls.add(url)\n",
    "\n",
    "all_urls = list(all_urls)\n",
    "all_urls[:10]"
   ]
  },
  {
   "cell_type": "markdown",
   "id": "f9951d22-ec99-4d13-ad47-38d35d388827",
   "metadata": {},
   "source": [
    "Discuss the next result:"
   ]
  },
  {
   "cell_type": "code",
   "execution_count": 10,
   "id": "ec65f900-3a74-4664-8b38-301f7c292649",
   "metadata": {},
   "outputs": [
    {
     "name": "stdout",
     "output_type": "stream",
     "text": [
      "|DOM ∩ REGX| = 50\n",
      "|DOM \\ REGX| = 90\n",
      "|REGX \\ DOM| = 71\n"
     ]
    }
   ],
   "source": [
    "print(\"|DOM ∩ REGX| =\", len(set(all_urls) & set(regexp_urls)))\n",
    "print(\"|DOM \\ REGX| =\", len(set(all_urls) - set(regexp_urls)))\n",
    "print(\"|REGX \\ DOM| =\", len(set(regexp_urls) - set(all_urls)))"
   ]
  },
  {
   "cell_type": "markdown",
   "id": "9a6bb8ed-9a9b-44db-bb97-9ef6cfe69b97",
   "metadata": {},
   "source": [
    "# Unique file name\n",
    "\n",
    "Please, never try to convert a domain (`google.com`), or a path component (`/index.php`) into a filename. They are not unique!\n",
    "\n",
    "Also, better not to try to substitute sensitive symbols of the full URL (`/:`...) -- you will definitely forget one. Also, you may easily overflow file name.\n",
    "\n",
    "Nice way is to use hash strings with fixed length and character set. Compute hash strings from the previous list."
   ]
  },
  {
   "cell_type": "code",
   "execution_count": 11,
   "id": "83ab186e-d4e0-4612-a4f4-be7eadae4d47",
   "metadata": {},
   "outputs": [
    {
     "name": "stdout",
     "output_type": "stream",
     "text": [
      "580c896703b639c47da3cf30be6a78fb5a831302 https://mathema...-less-variables\n",
      "42af2a47767f85259c15acc787b9e012eea6546a https://space.s...weight-estimate\n",
      "0440787fda1ce3524156f5f2e8125236f56c7938 https://math.st...f-rank-1-matrix\n",
      "537f99069a4a9ea7fade70e8965ce649761c35d3 https://stackov...o/company/press\n",
      "7213bb1c3dc14ce0556ab4ae331d16e3d19fb7f1 https://math.st...x-decomposition\n",
      "4814f9498243604b1389d9b29748f0409259871c https://try.sta...utm_content=cta\n",
      "07ebb6201d0237b1221669f4fe8bc3a1059801cf https://linkedi.../stack-overflow\n",
      "94cca9af043d0cd0180df9a5ccd6994894b5a32e https://www.ins...hestackoverflow\n",
      "79b30ae1372efe609c895a9486889e7a21f3ecf1 https://math.st...he-principal-co\n",
      "52268fea4169df93b9c8f0eb65acb2e8fb80ce26 https://math.st...change.com/tags\n",
      "bc68302b130f462c04f1f42ba3595f153393e835 https://math.st...11486/revisions\n",
      "1b693522de70d4d61b2df723b69f98703983b31a https://mathove...absolute-values\n",
      "ae60f62b3195c9be30f748ceb6bba04c62b0cc83 https://math.st...ions/tagged/svd\n",
      "a9b97ece3afe2c0c36f997f5287ee9b4e79162df https://meta.st...-decommissioned\n",
      "da46726ebfcd412c643f37853ee3de417c5aad8e https://math.st...bart-vanderbeke\n",
      "0d7daa3c64a2de961a2a002729e97e0b02b1234a https://math.st...rs/81007/celdor\n",
      "2d1728113367210aaf9c8b3d7d661b2f9b4889e6 https://math.st...vd?noredirect=1\n",
      "4cf5f3883bfc22f3253da0f8036109483dc64336 https://math.st...composition-svd\n",
      "55836522d4c883228d83e2c06c03b0a3bba1e8a5 https://stackov...ceiving-to-fail\n",
      "17c17e9594bd57883b73a55cf468ca41c19c2bfa https://api.sta...ckexchange.com/\n"
     ]
    }
   ],
   "source": [
    "import hashlib\n",
    "\n",
    "for url in all_urls[:20]:\n",
    "    s = ...\n",
    "    print(s, url[:15] + \"...\" + url[-15:])"
   ]
  }
 ],
 "metadata": {
  "kernelspec": {
   "display_name": "Python 3",
   "language": "python",
   "name": "python3"
  },
  "language_info": {
   "codemirror_mode": {
    "name": "ipython",
    "version": 3
   },
   "file_extension": ".py",
   "mimetype": "text/x-python",
   "name": "python",
   "nbconvert_exporter": "python",
   "pygments_lexer": "ipython3",
   "version": "3.10.12"
  }
 },
 "nbformat": 4,
 "nbformat_minor": 5
}
