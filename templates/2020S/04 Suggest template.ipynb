{
 "cells": [
  {
   "cell_type": "markdown",
   "metadata": {
    "colab_type": "text",
    "id": "_ENJNmwv1ope"
   },
   "source": [
    "# Sugges_ #"
   ]
  },
  {
   "cell_type": "markdown",
   "metadata": {
    "colab_type": "text",
    "id": "D2YrBebD1opi"
   },
   "source": [
    "One of the strategies to improve user experience is to provide user with hints, or, otherwise, to autocomplete his queries. Let's consider suggest.\n",
    "\n",
    "Today we will practice generating suggestions using [Trie](https://en.wikipedia.org/wiki/Trie) datastructure (prefix tree), see the example below.\n",
    "\n",
    "Plan:\n",
    "\n",
    "1. Build Trie based on real search query data provided by AOL company;\n",
    "2. Generate suggestion based on trie;\n",
    "3. Measure suggestion speed;\n",
    "4. Add spellcheck to suggest (optional).\n",
    "\n",
    "\n",
    "![image](https://www.ritambhara.in/wp-content/uploads/2017/05/Screen-Shot-2017-05-01-at-4.01.38-PM.png)"
   ]
  },
  {
   "cell_type": "markdown",
   "metadata": {
    "colab_type": "text",
    "id": "hXUpWGm_1opk"
   },
   "source": [
    "## Install Trie DS support\n",
    "\n",
    "You are free to use any library implementation of Trie, as well as the one we suggest.\n",
    "\n",
    "https://github.com/google/pygtrie"
   ]
  },
  {
   "cell_type": "code",
   "execution_count": null,
   "metadata": {
    "colab": {},
    "colab_type": "code",
    "collapsed": true,
    "id": "Kv6vRzN21opm",
    "jupyter": {
     "outputs_hidden": true
    }
   },
   "outputs": [],
   "source": [
    "!pip install pygtrie"
   ]
  },
  {
   "cell_type": "code",
   "execution_count": 1,
   "metadata": {
    "colab": {},
    "colab_type": "code",
    "id": "PlEiOV4w1opu"
   },
   "outputs": [
    {
     "name": "stdout",
     "output_type": "stream",
     "text": [
      "CharTrie(this is 1: A, this is 2: B, that is 3: C)\n",
      "Node = False; Subtree = True\n",
      "this is 1 ~ A\n",
      "this is 2 ~ B\n"
     ]
    }
   ],
   "source": [
    "import pygtrie\n",
    "t = pygtrie.CharTrie()\n",
    "t[\"this is 1\"] = \"A\"\n",
    "t[\"this is 2\"] = \"B\"\n",
    "t[\"that is 3\"] = \"C\"\n",
    "\n",
    "print(t)\n",
    "\n",
    "n = t.has_node('this') == pygtrie.Trie.HAS_VALUE\n",
    "s = t.has_node('this') == pygtrie.Trie.HAS_SUBTRIE\n",
    "\n",
    "print(f\"Node = {n}; Subtree = {s}\")\n",
    "\n",
    "for key, val in t.iteritems(\"this\"):\n",
    "    print(key, '~', val)"
   ]
  },
  {
   "cell_type": "markdown",
   "metadata": {
    "colab_type": "text",
    "id": "_DsiIlgu1op1"
   },
   "source": [
    "## 1. Build a trie upon a dataset ##\n",
    "\n",
    "### 1.1 Read dataset\n",
    "\n",
    "Download the [dataset](https://drive.google.com/drive/folders/1rOE5eed37Jy2ANQItZVwDIFgPmkCoFu6) (we provide only the first part of the original data for simplicity (~3.5 mln queries)).\n",
    "Explore the data, see readme file. Load the dataset."
   ]
  },
  {
   "cell_type": "code",
   "execution_count": 2,
   "metadata": {
    "colab": {},
    "colab_type": "code",
    "id": "VNZTgNu01op3",
    "scrolled": true
   },
   "outputs": [
    {
     "name": "stdout",
     "output_type": "stream",
     "text": [
      "DS size: 3558411\n",
      "DS head:\n",
      "   AnonID                        Query            QueryTime  ItemRank ClickURL\n",
      "0     142               rentdirect.com  2006-03-01 07:17:12       NaN      NaN\n",
      "1     142  www.prescriptionfortime.com  2006-03-12 12:31:06       NaN      NaN\n",
      "2     142                   staple.com  2006-03-17 21:19:29       NaN      NaN\n",
      "3     142                   staple.com  2006-03-17 21:19:45       NaN      NaN\n",
      "4     142    www.newyorklawyersite.com  2006-03-18 08:02:58       NaN      NaN\n",
      "DS tail:\n",
      "           AnonID                      Query            QueryTime  ItemRank  \\\n",
      "3558406  24968114                          -  2006-05-31 01:04:20       NaN   \n",
      "3558407  24969251  sp.trafficmarketplace.com  2006-05-31 15:51:23       NaN   \n",
      "3558408  24969374            orioles tickets  2006-05-31 12:24:51       NaN   \n",
      "3558409  24969374            orioles tickets  2006-05-31 12:31:57       2.0   \n",
      "3558410  24969374          baltimore marinas  2006-05-31 12:43:40       NaN   \n",
      "\n",
      "                          ClickURL  \n",
      "3558406                        NaN  \n",
      "3558407                        NaN  \n",
      "3558408                        NaN  \n",
      "3558409  http://www.greatseats.com  \n",
      "3558410                        NaN  \n"
     ]
    }
   ],
   "source": [
    "#TODO: Read the dataset\n",
    "\n",
    "aol_data = None\n",
    "print(\"DS size:\", aol_data.shape[0])\n",
    "print(\"DS head:\")\n",
    "print(aol_data.head())\n",
    "print(\"DS tail:\")\n",
    "print(aol_data.tail())"
   ]
  },
  {
   "cell_type": "markdown",
   "metadata": {},
   "source": [
    "### 1.2 Build Trie\n",
    "\n",
    "We want suggest function to be non-sensitive to stop words because we don't want to upset the user if he confuses/omits prepositions, for example. Consider \"public events in Innopolis\" vs \"public events at Innopolis\" or \"public events Innopolis\" - they all mean the same.\n",
    "\n",
    "Build Trie based on the dataset, storing query statistics such as query frequency, urls and ranks in nodes. Some queries may not have associated urls, others may have multiple ranked urls. Think of the way to store this information."
   ]
  },
  {
   "cell_type": "code",
   "execution_count": null,
   "metadata": {
    "collapsed": true,
    "jupyter": {
     "outputs_hidden": true
    }
   },
   "outputs": [],
   "source": [
    "#TODO: build trie based on data\n",
    "aol_trie = pygtrie.CharTrie()\n"
   ]
  },
  {
   "cell_type": "code",
   "execution_count": null,
   "metadata": {
    "collapsed": true,
    "jupyter": {
     "outputs_hidden": true
    }
   },
   "outputs": [],
   "source": [
    "# test trie\n",
    "for key, val in aol_trie.iteritems(\"sample q\"):\n",
    "    print(key, '~', val)"
   ]
  },
  {
   "cell_type": "markdown",
   "metadata": {
    "colab_type": "text",
    "id": "30u0nb8f1osE"
   },
   "source": [
    "## 2. Write a suggest function which is non-sensitive to stop words ##\n",
    "\n",
    "Suggest options for user query based on Trie you just built.\n",
    "Output results sorted by frequency, print query count for each suggestion. If there is an url available, print the url too. If multiple url-s are available, print the one with the highest rank (the less the better).\n",
    "\n",
    "Q: What is the empirical threshold for minimal prefix for suggest?"
   ]
  },
  {
   "cell_type": "code",
   "execution_count": 5,
   "metadata": {
    "colab": {},
    "colab_type": "code",
    "id": "TZzx2Vp31osB"
   },
   "outputs": [
    {
     "name": "stdout",
     "output_type": "stream",
     "text": [
      "Query: trie\n",
      "Results:\n",
      "Count 5 : tried and true tattoo http://www.triedntruetattoo.com\n",
      "Count 3 : triest \n",
      "Count 3 : triethanalomine http://avalon.unomaha.edu\n",
      "Count 2 : tried and failed \n",
      "Count 2 : when you tried and failed \n"
     ]
    }
   ],
   "source": [
    "def complete_user_query(query, trie, top_k=5):\n",
    "    #TODO: suggest top_k options for a user query\n",
    "    # sort results by frequency, suggest first ranked urls if available\n",
    "    pass\n",
    "\n",
    "        \n",
    "inp = \"trie\"\n",
    "print(\"Query:\", inp)\n",
    "print(\"Results:\")\n",
    "complete_user_query(inp, aol_trie)"
   ]
  },
  {
   "cell_type": "markdown",
   "metadata": {
    "colab_type": "text",
    "id": "F6Uivwxk1osF"
   },
   "source": [
    "## 3. Measure suggest speed ##\n",
    "\n",
    "Check how fast your search is working. Consider changing your code if it takes too long on average."
   ]
  },
  {
   "cell_type": "code",
   "execution_count": 6,
   "metadata": {},
   "outputs": [
    {
     "name": "stdout",
     "output_type": "stream",
     "text": [
      "\n",
      "Query: inf\n",
      "Results:\n",
      "Count 94 : information clearing house http://www.informationclearinghouse.info\n",
      "Count 72 : information on training puppy http://www.101-dog-training-tips.com\n",
      "Count 59 : inflatable slides \n",
      "Count 40 : infolanka http://www.infolanka.com\n",
      "Count 36 : inflatable pool water slide http://www.bizrate.com\n",
      "\n",
      "Query: best\n",
      "Results:\n",
      "Count 257 : bestcounter.biz \n",
      "Count 43 : best buy.com http://www.bestbuy.com\n",
      "Count 30 : the best chocolate cake http://www.cacaoweb.net\n",
      "Count 29 : best place to buy outdoor cushions http://www.woodclassics.com\n",
      "Count 23 : best-replicas.com http://www.best-replicas.com\n",
      "\n",
      "Query: information retrieval\n",
      "Results:\n",
      "Sorry, nothing to suggest!\n",
      "\n",
      "Query: sherlock hol\n",
      "Results:\n",
      "Count 2 : sherlock holmes society http://www.realtime.net\n",
      "Count 2 : sherlock holmes chronological order http://www.geocities.com\n",
      "Count 1 : sherlock holmes \n",
      "Count 1 : sherlock holmes address \n",
      "Count 1 : sherlock holmes audiotapes \n",
      "\n",
      "Query: carnegie mell\n",
      "Results:\n",
      "Count 1 : carnegie mellon \n",
      "Count 1 : carnegie mellon university http://www.cmu.edu\n",
      "\n",
      "Query: babies r\n",
      "Results:\n",
      "Count 15 : babies r us.com http://www.toysrus.com\n",
      "Count 5 : babies r us birmingham al registry http://birmingham.babyzone.com\n",
      "Count 4 : babies r us regestry \n",
      "Count 3 : babies r us store locator http://www.babiesrus.com\n",
      "Count 3 : babies r us registry http://www.babbee.com\n",
      "\n",
      "Query: new york\n",
      "Results:\n",
      "Count 122 : new york alarm installer jobs http://websearch.nytimes.com\n",
      "Count 54 : new york times learning http://www.nytimes.com\n",
      "Count 52 : new york red bulls http://redbull.newyork.mlsnet.com\n",
      "Count 22 : new york state tax forms http://www.tax.state.ny.us\n",
      "Count 21 : new york unified court system http://www.nycourts.gov\n",
      "\n",
      "Query: googol\n",
      "Results:\n",
      "Count 9 : googole http://www.googole.com\n",
      "Count 6 : googol . com. http://mathworld.wolfram.com\n",
      "Count 1 : googol \n",
      "Count 1 : googolle \n",
      "Count 1 : googol.cokm \n",
      "\n",
      "Query: inter\n",
      "Results:\n",
      "Count 66 : international male.com \n",
      "Count 42 : international bar association http://www.ibanet.org\n",
      "Count 34 : internationalliving.com http://www.internationalliving.com\n",
      "Count 32 : international chats \n",
      "Count 30 : interior design drawings \n",
      "\n",
      "Query: usa sta\n",
      "Results:\n",
      "Count 1 : usa state map \n",
      "\n",
      "Query: barbara\n",
      "Results:\n",
      "Count 23 : barbara ann priddy teacher oklahoma city oklahoma \n",
      "Count 21 : barbara eden http://www.imdb.com\n",
      "Count 14 : barbara a priddy oklahoma city oklahoma http://www.oklahomahistory.net\n",
      "Count 14 : barbara franzoso http://www.seacoastonline.com\n",
      "Count 13 : barbara ann priddy psychiatric history \n",
      "Queries are handled in 24.99 ms on average\n"
     ]
    }
   ],
   "source": [
    "inp_queries = [\"inf\", \"the best \", \"information retrieval\", \"sherlock hol\", \"carnegie mell\", \n",
    "               \"babies r\", \"new york\", \"googol\", \"inter\", \"USA sta\", \"Barbara \"]\n",
    "\n",
    "#TODO: measure avg execution time per query"
   ]
  },
  {
   "cell_type": "markdown",
   "metadata": {
    "colab_type": "text",
    "id": "gH_RNJRj1osG"
   },
   "source": [
    "## 4. Bonus task ##\n",
    "\n",
    "Add spellchecking to your suggest."
   ]
  },
  {
   "cell_type": "code",
   "execution_count": null,
   "metadata": {
    "colab": {},
    "colab_type": "code",
    "collapsed": true,
    "id": "aML22Syo1osH",
    "jupyter": {
     "outputs_hidden": true
    }
   },
   "outputs": [],
   "source": []
  }
 ],
 "metadata": {
  "colab": {
   "name": "Suggest.ipynb",
   "provenance": []
  },
  "kernelspec": {
   "display_name": "Python 3",
   "language": "python",
   "name": "python3"
  },
  "language_info": {
   "codemirror_mode": {
    "name": "ipython",
    "version": 3
   },
   "file_extension": ".py",
   "mimetype": "text/x-python",
   "name": "python",
   "nbconvert_exporter": "python",
   "pygments_lexer": "ipython3",
   "version": "3.8.3"
  }
 },
 "nbformat": 4,
 "nbformat_minor": 4
}
