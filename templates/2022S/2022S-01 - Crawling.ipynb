{
 "cells": [
  {
   "cell_type": "code",
   "execution_count": null,
   "id": "19a95ab9-03c8-4671-932b-46d80184d453",
   "metadata": {},
   "outputs": [],
   "source": [
    "#TODO: introductory template to show the difference between inormation retrieval and database search.\n",
    "# Issue #9"
   ]
  }
 ],
 "metadata": {
  "kernelspec": {
   "display_name": "Python 3",
   "language": "python",
   "name": "python3"
  },
  "language_info": {
   "codemirror_mode": {
    "name": "ipython",
    "version": 3
   },
   "file_extension": ".py",
   "mimetype": "text/x-python",
   "name": "python",
   "nbconvert_exporter": "python",
   "pygments_lexer": "ipython3",
   "version": "3.8.8"
  }
 },
 "nbformat": 4,
 "nbformat_minor": 5
}
